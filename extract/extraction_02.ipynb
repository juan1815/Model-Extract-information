{
 "cells": [
  {
   "cell_type": "code",
   "execution_count": 7,
   "metadata": {},
   "outputs": [],
   "source": [
    "import spacy\n",
    "import re"
   ]
  },
  {
   "cell_type": "code",
   "execution_count": 8,
   "metadata": {},
   "outputs": [],
   "source": [
    "import re\n",
    "\n",
    "def extraer_metadatos_gaceta(texto_pdf):\n",
    "    \"\"\"Extrae metadatos de una gaceta del Congreso en formato texto.\"\"\"\n",
    "\n",
    "    metadatos = {}\n",
    "\n",
    "    # --- 1. Fecha ---\n",
    "    patron_fecha = r\"(?i)(lunes|martes|miércoles|jueves|viernes|sábado|domingo),\\s*(\\d{1,2})\\s+de\\s+(enero|febrero|marzo|abril|mayo|junio|julio|agosto|septiembre|octubre|noviembre|diciembre)\\s+de\\s+(\\d{4})\"\n",
    "    coincidencia_fecha = re.search(patron_fecha, texto_pdf)\n",
    "    if coincidencia_fecha:\n",
    "        meses = {\"enero\": 1, \"febrero\": 2, \"marzo\": 3, \"abril\": 4, \"mayo\": 5, \"junio\": 6,\n",
    "                 \"julio\": 7, \"agosto\": 8, \"septiembre\": 9, \"octubre\": 10, \"noviembre\": 11, \"diciembre\": 12}\n",
    "        dia_mes = int(coincidencia_fecha.group(2))\n",
    "        mes_numero = meses[coincidencia_fecha.group(3).lower()]\n",
    "        anio = int(coincidencia_fecha.group(4))\n",
    "        metadatos[\"fecha\"] = f\"{dia_mes:02d}/{mes_numero:02d}/{anio}\"\n",
    "\n",
    "    # --- 2. Directores ---\n",
    "    patron_directores = r\"(?i)DIRECTORES:\\s*(.*?)\\s*(?:SECRETARIO|RAMA)\"\n",
    "    coincidencia_directores = re.search(patron_directores, texto_pdf)\n",
    "    if coincidencia_directores:\n",
    "        metadatos[\"directores\"] = coincidencia_directores.group(1).strip()\n",
    "\n",
    "    # --- 3. Edición de n páginas ---\n",
    "    patron_paginas = r\"(?i)EDICI[ÓO]N\\s+DE\\s+(\\d+)\\s+P[ÁA]GINAS\"\n",
    "    coincidencia_paginas = re.search(patron_paginas, texto_pdf)\n",
    "    if coincidencia_paginas:\n",
    "        metadatos[\"num_paginas\"] = int(coincidencia_paginas.group(1))\n",
    "\n",
    "    # --- 4. Año (Números Romanos) ---\n",
    "    patron_anio = r\"AÑO\\s+(M{0,4}(CM|CD|D?C{0,3})(XC|XL|L?X{0,3})(IX|IV|V?I{0,3}))\"\n",
    "    coincidencia_anio = re.search(patron_anio, texto_pdf)\n",
    "    if coincidencia_anio:\n",
    "        romano = coincidencia_anio.group(1)\n",
    "        metadatos[\"anio_romano\"] = romano\n",
    "        metadatos[\"anio\"] = romano_a_entero(romano)  # Conversión a entero\n",
    "\n",
    "    # --- 5. Nombre Principal ---\n",
    "    patron_nombre = r\"(?i)GACETA\\s+DEL\\s+CONGRESO\"\n",
    "    if re.search(patron_nombre, texto_pdf):\n",
    "        metadatos[\"nombre\"] = \"Gaceta del Congreso\"\n",
    "\n",
    "    # --- 6. Subtítulo ---\n",
    "    patron_subtitulo = r\"(?i)GACETA\\s+DEL\\s+CONGRESO\\s*\\n*(.*?)\\s*(?:AÑO|DIRECTORES)\"\n",
    "    coincidencia_subtitulo = re.search(patron_subtitulo, texto_pdf)\n",
    "    if coincidencia_subtitulo:\n",
    "        metadatos[\"subtitulo\"] = coincidencia_subtitulo.group(1).strip()\n",
    "\n",
    "     # --- 7. Artículo, Ley ---\n",
    "    patron_articulo =  r\"(?i)ART[ÍI]CULO\\s+\\d+(?:\\s*(?:[º°ª])|\\s*[Nn][°º])[\\s.,:;]*LEY\\s+\\d+(?:\\s*(?:[º°ª])|\\s*[Nn][°º])[\\s.,:;]*DE[\\s.,:;]*\\d+\"\n",
    "    if re.search(patron_articulo, texto_pdf):\n",
    "        metadatos[\"articulo_ley\"] = True\n",
    "\n",
    "\n",
    "    # --- 8. ISSN ---\n",
    "    patron_issn = r\"(?i)ISSN\\s+(\\d{4}-\\d{3}[\\dX])\"\n",
    "    coincidencia_issn = re.search(patron_issn, texto_pdf)\n",
    "    if coincidencia_issn:\n",
    "        metadatos[\"issn\"] = coincidencia_issn.group(1)\n",
    "\n",
    "    # --- 9. Rama Legislativa ---\n",
    "    patron_rama = r\"(?i)RAMA\\s+LEGISLATIVA\\s+DEL\\s+PODER\\s+P[ÚU]BLICO\"\n",
    "    if re.search(patron_rama, texto_pdf):\n",
    "        metadatos[\"rama\"] = \"Rama Legislativa del Poder Público\"\n",
    "\n",
    "\n",
    "    # --- 10. Cámara o Senado ---\n",
    "    patron_camara = r\"(?i)(C[ÁA]MARA\\s+DE\\s+REPRESENTANTES|SENADO\\s+DE\\s+LA\\s+REP[ÚU]BLICA)\"\n",
    "    coincidencia_camara = re.search(patron_camara, texto_pdf)\n",
    "    if coincidencia_camara:\n",
    "        metadatos[\"camara\"] = coincidencia_camara.group(1)\n",
    "\n",
    "\n",
    "    # --- 11. Tipo de Documento ---  CORRECCIÓN AQUÍ\n",
    "    patron_tipo = r\"^(Ponencia|Acta|Proyecto\\s+de\\s+Ley|Informe|Resolución|Concepto|Proposición|Constancia|Objeciones|Textos|Pliego)(.*)\"\n",
    "    for linea in texto_pdf.splitlines():  # Procesa línea por línea\n",
    "        coincidencia_tipo = re.search(patron_tipo, linea, re.IGNORECASE)  # Usar re.IGNORECASE\n",
    "        if coincidencia_tipo:\n",
    "            metadatos[\"tipo_documento\"] = coincidencia_tipo.group(1).strip()\n",
    "            metadatos[\"descripcion\"] = coincidencia_tipo.group(2).strip() #descripcion\n",
    "            break  # Sale del bucle después de encontrar la primera coincidencia.\n",
    "\n",
    "    return metadatos\n"
   ]
  },
  {
   "cell_type": "code",
   "execution_count": 9,
   "metadata": {},
   "outputs": [],
   "source": [
    "def romano_a_entero(romano):\n",
    "    \"\"\"Convierte un número romano a entero.\"\"\"\n",
    "    valores = {'M': 1000, 'CM': 900, 'D': 500, 'CD': 400, 'C': 100, 'XC': 90,\n",
    "               'L': 50, 'XL': 40, 'X': 10, 'IX': 9, 'V': 5, 'IV': 4, 'I': 1}\n",
    "    entero = 0\n",
    "    i = 0\n",
    "    while i < len(romano):\n",
    "        if i + 1 < len(romano) and romano[i:i+2] in valores:\n",
    "            entero += valores[romano[i:i+2]]\n",
    "            i += 2\n",
    "        else:\n",
    "            entero += valores[romano[i]]\n",
    "            i += 1\n",
    "    return entero"
   ]
  },
  {
   "cell_type": "code",
   "execution_count": null,
   "metadata": {},
   "outputs": [],
   "source": []
  },
  {
   "cell_type": "code",
   "execution_count": 10,
   "metadata": {},
   "outputs": [
    {
     "ename": "TypeError",
     "evalue": "extraer_metadatos_gaceta() missing 1 required positional argument: 'texto_pdf'",
     "output_type": "error",
     "traceback": [
      "\u001b[1;31m---------------------------------------------------------------------------\u001b[0m",
      "\u001b[1;31mTypeError\u001b[0m                                 Traceback (most recent call last)",
      "Cell \u001b[1;32mIn[10], line 1\u001b[0m\n\u001b[1;32m----> 1\u001b[0m metadatos \u001b[38;5;241m=\u001b[39m \u001b[43mextraer_metadatos_gaceta\u001b[49m\u001b[43m(\u001b[49m\u001b[43m)\u001b[49m\n\u001b[0;32m      2\u001b[0m \u001b[38;5;28mprint\u001b[39m(metadatos)\n\u001b[0;32m      3\u001b[0m \u001b[38;5;66;03m# Salida esperada (aproximada, puede variar ligeramente según la limpieza exacta):\u001b[39;00m\n\u001b[0;32m      4\u001b[0m \u001b[38;5;66;03m# {'fecha': '09/02/2023', 'directores': 'GREGORIO ELJACH PACHECO\\nSECRETARIO GENERAL DEL SENADO\\nwww.secretariasenado.gov.co', 'num_paginas': 22, 'anio_romano': 'XXXII', 'anio': 32, 'nombre': 'Gaceta del Congreso', 'subtitulo': 'CONCEPTOS JURÍDICOS', 'issn': '0123-9066', 'rama': 'Rama Legislativa del Poder Público', 'camara': 'SENADO DE LA REPÚBLICA', 'tipo_documento': 'CONCEPTOS'}\u001b[39;00m\n",
      "\u001b[1;31mTypeError\u001b[0m: extraer_metadatos_gaceta() missing 1 required positional argument: 'texto_pdf'"
     ]
    }
   ],
   "source": [
    "metadatos = extraer_metadatos_gaceta()\n",
    "print(metadatos)\n",
    "# Salida esperada (aproximada, puede variar ligeramente según la limpieza exacta):\n",
    "# {'fecha': '09/02/2023', 'directores': 'GREGORIO ELJACH PACHECO\\nSECRETARIO GENERAL DEL SENADO\\nwww.secretariasenado.gov.co', 'num_paginas': 22, 'anio_romano': 'XXXII', 'anio': 32, 'nombre': 'Gaceta del Congreso', 'subtitulo': 'CONCEPTOS JURÍDICOS', 'issn': '0123-9066', 'rama': 'Rama Legislativa del Poder Público', 'camara': 'SENADO DE LA REPÚBLICA', 'tipo_documento': 'CONCEPTOS'}"
   ]
  }
 ],
 "metadata": {
  "kernelspec": {
   "display_name": "Extract",
   "language": "python",
   "name": "python3"
  },
  "language_info": {
   "codemirror_mode": {
    "name": "ipython",
    "version": 3
   },
   "file_extension": ".py",
   "mimetype": "text/x-python",
   "name": "python",
   "nbconvert_exporter": "python",
   "pygments_lexer": "ipython3",
   "version": "3.12.9"
  }
 },
 "nbformat": 4,
 "nbformat_minor": 2
}
