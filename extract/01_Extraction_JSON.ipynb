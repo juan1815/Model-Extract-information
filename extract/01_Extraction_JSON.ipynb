{
 "cells": [
  {
   "cell_type": "code",
   "execution_count": 60,
   "metadata": {},
   "outputs": [],
   "source": [
    "import fitz  # PyMuPDF\n",
    "import re\n",
    "import json"
   ]
  },
  {
   "cell_type": "markdown",
   "metadata": {},
   "source": [
    "## Expresion Regulars"
   ]
  },
  {
   "cell_type": "code",
   "execution_count": 61,
   "metadata": {},
   "outputs": [],
   "source": [
    "def extraer_metados_gaceta(text_pdf):\n",
    "    \"\"\"Extract metadata of a 'gaceta' of the congress in text format\"\"\"\n",
    "    \n",
    "    metadatos = {}\n",
    "    \n",
    "    # --- Date\n",
    "    date_pattern = r\"(?i)(lunes|martes|miércoles|jueves|viernes|sábado|domingo),\\s*(\\d{1,2})\\s+de\\s+(enero|febrero|marzo|abril|mayo|junio|julio|agosto|septiembre|octubre|noviembre|diciembre)\\s+de\\s+(\\d{4})\"\n",
    "    match_date = re.search(date_pattern, text_pdf)\n",
    "    if match_date:\n",
    "        months = {\"enero\": 1, \"febrero\": 2, \"marzo\": 3, \"abril\": 4, \"mayo\": 5, \"junio\": 6, \"julio\": 7, \"agosto\": 8, \"septiembre\": 9, \"octubre\": 10, \"noviembre\": 11, \"diciembre\": 12}\n",
    "        day_month = int(match_date.group(2))\n",
    "        month_num = months[match_date.group(3).lower()]\n",
    "        anio = int(match_date.group(4))\n",
    "        metadatos[\"fecha\"] = f\"{day_month:02d}/{month_num:02d}/{anio}\"\n",
    "        \n",
    "    # --- Directors\n",
    "    pattern_directs = r\"(?i)DIRECTORES:\\s*(.*?)\\s*(?:SECRETARIO|RAMA)\"\n",
    "    match_directs = re.search(pattern_directs, text_pdf)\n",
    "    if match_directs:\n",
    "        metadatos[\"directores\"] = match_directs.group(1).strip()\n",
    "    \n",
    "    # --- Edition of n pages\n",
    "    pattern_pages = r\"(?i)EDICI[ÓO]N\\s+DE\\s+(\\d+)\\s+P[ÁA]GINAS\"\n",
    "    match_pages = re.search(pattern_pages, text_pdf)\n",
    "    if match_pages:\n",
    "        metadatos[\"num_paginas\"] = int(match_pages.group(1))\n",
    "        \n",
    "    # --- Year (Roman Numerals)\n",
    "    pattern_anio = r\"AÑO\\s+(M{0,4}(CM|CD|D?C{0,3})(XC|XL|L?X{0,3})(IX|IV|V?I{0,3}))\"\n",
    "    match_anio = re.search(pattern_anio, text_pdf)\n",
    "    if match_anio:\n",
    "        romano = match_anio.group(1)\n",
    "        metadatos[\"Numero_romano\"] = romano\n",
    "        metadatos[\"Numero_entero\"] = whole_number(romano)\n",
    "        \n",
    "    # --- Main name\n",
    "    pattern_name = r\"(?i)GACETA\\s+DEL\\s+CONGRESO\"\n",
    "    if re.search(pattern_name, text_pdf):\n",
    "        metadatos[\"nombre\"] = \"Gaceta del congreso\"\n",
    "    \n",
    "    # --- ISSN\n",
    "    pattern_issn = r\"(?i)ISSN\\s+(\\d{4}-\\d{3}[\\dX])\"\n",
    "    match_issn = re.search(pattern_issn, text_pdf)\n",
    "    if match_issn:\n",
    "        metadatos[\"issn\"] = match_issn.group(1)\n",
    "        \n",
    "    # --- Legislative branch\n",
    "    pattern_branch = r\"(?i)RAMA\\s+LEGISLATIVA\\s+DEL\\s+PODER\\s+P[ÚU]BLICO\"\n",
    "    if re.search(pattern_branch, text_pdf):\n",
    "        metadatos[\"rama\"] = \"Rama Legislativa del poder publico\"\n",
    "    \n",
    "    # --- Chamber or Senate\n",
    "    pattern_entity = r\"(?i)(C[ÁA]MARA\\s+DE\\s+REPRESENTANTES|SENADO\\s+DE\\s+LA\\s+REP[ÚU]BLICA)\"\n",
    "    match_entity = re.search(pattern_entity, text_pdf)\n",
    "    if match_entity:\n",
    "        metadatos[\"camara\"] = match_entity.group(1)\n",
    "    \n",
    "    # --- Document type\n",
    "    pattern_type = r\"^(PONENCIA|ACTA|PROYECTO\\s+DE\\s+LEY| INFORME|RESOLUCI[ÓO]N|CONCEPTO|PROPOSICI[ÓO]N|CONSTANCIA|OBJECCIONES)(.*)\"\n",
    "    for linea in text_pdf.splitlines():  # Process line by line\n",
    "        match_type = re.search(pattern_type, linea, re.IGNORECASE)\n",
    "        if match_type:\n",
    "            metadatos[\"tipo_documento\"] = match_type.group(1).strip()\n",
    "            metadatos[\"descripcion\"] = match_type.group(2).strip()\n",
    "            break\n",
    "    \n",
    "    # --- Presentation\n",
    "    pattern_presentation = r\"(?i)PRESENTACI[ÓO]N\\s*:\\s*(.*?)\\s*(?:DIRECTORES|RAMA|EDICI[ÓO]N)\"\n",
    "    match_presentation = re.search(pattern_presentation, text_pdf)\n",
    "    if match_presentation:\n",
    "        metadatos[\"presentacion\"] = match_presentation.group(1).strip()\n",
    "    \n",
    "    # Convert the metadata dictionary to a JSON string\n",
    "    metadatos_json = json.dumps(metadatos, ensure_ascii=False, indent=4)\n",
    "    return metadatos_json"
   ]
  },
  {
   "cell_type": "code",
   "execution_count": 62,
   "metadata": {},
   "outputs": [],
   "source": [
    "def whole_number(romano):\n",
    "    \"\"\"Convert Roman numeral to whole number\"\"\"\n",
    "    values = {\"M\": 1000, 'CM': 900, 'D': 500, 'C': 100, 'XC': 90, 'L': 50, 'XL': 40, 'X': 10, 'IX': 9, 'V': 5, 'IV': 4, 'I': 1}\n",
    "    entire = 0\n",
    "    i = 0\n",
    "    while i < len(romano):\n",
    "        if i + 1 < len(romano) and romano[i:i+2] in values:\n",
    "            entire += values[romano[i:i+2]]\n",
    "            i += 2\n",
    "        else:\n",
    "            entire += values[romano[i]]\n",
    "            i += 1\n",
    "    return entire"
   ]
  },
  {
   "cell_type": "code",
   "execution_count": 63,
   "metadata": {},
   "outputs": [],
   "source": [
    "def leer_pdf(ruta_pdf):\n",
    "    \"\"\"Read a PDF file and return its text content\"\"\"\n",
    "    documento = fitz.open(ruta_pdf)\n",
    "    texto = \"\"\n",
    "    for pagina in documento:\n",
    "        texto += pagina.get_text()\n",
    "    return texto\n"
   ]
  },
  {
   "cell_type": "code",
   "execution_count": 64,
   "metadata": {},
   "outputs": [
    {
     "name": "stdout",
     "output_type": "stream",
     "text": [
      "{\n",
      "    \"fecha\": \"25/02/2025\",\n",
      "    \"directores\": \"JAIME LUIS LACOUTURE PEÑALOZA\",\n",
      "    \"num_paginas\": 9,\n",
      "    \"Numero_romano\": \"XXXIV\",\n",
      "    \"Numero_entero\": 34,\n",
      "    \"nombre\": \"Gaceta del congreso\",\n",
      "    \"rama\": \"Rama Legislativa del poder publico\",\n",
      "    \"camara\": \"SENADO DE LA REPÚBLICA\",\n",
      "    \"tipo_documento\": \"Proyecto de Ley\",\n",
      "    \"descripcion\": \"estatutaria No. 201 de 2024 Senado “Proyecto de Ley estatutaria No. 201\"\n",
      "}\n"
     ]
    }
   ],
   "source": [
    "\n",
    "# Ruta del documento PDF\n",
    "ruta_pdf = \"c:/Users/Jorge/OneDrive/Documents/proyect/document/gaceta_171.pdf\"\n",
    "\n",
    "# Leer el contenido del PDF\n",
    "texto_pdf = leer_pdf(ruta_pdf)\n",
    "\n",
    "# Extraer metadatos del contenido del PDF\n",
    "metadatos_json = extraer_metados_gaceta(texto_pdf)\n",
    "print(metadatos_json)"
   ]
  }
 ],
 "metadata": {
  "kernelspec": {
   "display_name": "Extract",
   "language": "python",
   "name": "python3"
  },
  "language_info": {
   "codemirror_mode": {
    "name": "ipython",
    "version": 3
   },
   "file_extension": ".py",
   "mimetype": "text/x-python",
   "name": "python",
   "nbconvert_exporter": "python",
   "pygments_lexer": "ipython3",
   "version": "3.12.9"
  }
 },
 "nbformat": 4,
 "nbformat_minor": 2
}
