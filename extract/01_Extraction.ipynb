{
 "cells": [
  {
   "cell_type": "code",
   "execution_count": null,
   "metadata": {},
   "outputs": [],
   "source": [
    "import re\n",
    "#PyMuPDF to read PDFs\n",
    "# import fitz"
   ]
  },
  {
   "cell_type": "markdown",
   "metadata": {},
   "source": [
    "## Expresion Regulars"
   ]
  },
  {
   "cell_type": "code",
   "execution_count": 24,
   "metadata": {},
   "outputs": [],
   "source": [
    "\n",
    "def extraer_metados_gaceta(text_pdf):\n",
    "    \"\"\"Extract_metadata of a 'gaceta' of the congress on format text\"\"\"\n",
    "    \n",
    "    metadatos = {}\n",
    "    \n",
    "    # ---Date\n",
    "    date_pattern = r\"(?i)(lunes|martes|miércoles|jueves|viernes|sábado|domingo),\\s*(\\d{1,2})\\s+de\\s+(enero|febrero|marzo|abril|mayo|junio|julio|agosto|septiembre|octubre|noviembre|diciembre)\\s+de\\s+(\\d{4})\"\n",
    "    match_date = re.search(date_pattern,text_pdf)\n",
    "    if match_date:\n",
    "        months = {\"enero\": 1, \"febrero\": 2, \"marzo\": 3, \"abril\": 4, \"mayo\": 5, \"junio\": 6, \"julio\": 7, \"agosto\":8, \"septiembre\": 9, \"octubre\": 10, \"noviembre\": 11, \"Diciembre\": 12}\n",
    "        day_month = int(match_date.group(2))\n",
    "        month_num = months[match_date.group(3).lower()]\n",
    "        anio = int(match_date.group(4))\n",
    "        metadatos[\"fecha\"] = f\"{day_month:02d}/{month_num:02}/{anio}\"\n",
    "        \n",
    "    # ---Directos\n",
    "    pattern_directs = r\"(?i)DIRECTORES:\\s*(.*?)\\s*(?:SECRETARIO|RAMA)\"\n",
    "    match_directs = re.search(pattern_directs, text_pdf)\n",
    "    if match_directs:\n",
    "        metadatos[\"directores\"] =  match_directs.group(1).strip()\n",
    "    \n",
    "    # -- 3 edicicion de n paginas\n",
    "    pattern_pages = r\"(?i)EDICI[ÓO]N\\s+(\\d+)\\s+P[ÁA]GINAS\"\n",
    "    pattern_pages = re.search(pattern_pages, text_pdf)\n",
    "    if pattern_pages:\n",
    "        metadatos[\"num_paginas\"] = int(pattern_pages.group(1))\n",
    "        \n",
    "    # -- 4. Year (NUM ROMAN)\n",
    "    pattern_anio = r\"AÑO\\s+(M{0,4}(CM|CD|D?C{0,3})(XC|XL|L?X{0,3})(IX|IV|V?I{0,3}))\"\n",
    "    match_anio = re.search(pattern_anio, text_pdf)\n",
    "    if match_anio:\n",
    "        romano = match_anio.group(1)\n",
    "        metadatos[\"anio_romano\"] = romano\n",
    "        #conversion from number roman to whole number\n",
    "        metadatos[\"anio\"] = whole_number(romano)\n",
    "        \n",
    "    # ---.5 name principal\n",
    "    pattern_name = r\"(?i)GACETA\\s+DEL\\s+CONGRESO\"\n",
    "    if re.search(pattern_name, text_pdf):\n",
    "        metadatos[\"nombre\"] = \"Gaceta del congreso\"\n",
    "    \n",
    "    # -- 8 ISSN \n",
    "    pattern_issn = r\"(?i)ISSN\\s+(\\d{4}-\\d{3}[\\dX])\"\n",
    "    match_issn = re.search(pattern_issn, text_pdf)\n",
    "    if match_issn:\n",
    "        metadatos[\"issn\"] = match_issn.group(1)\n",
    "        \n",
    "    # ---9 Rama legislativa\n",
    "    pattern_branch = r\"(?i)RAMA\\s+LEGISLATIVA\\s+DEL\\s+PODER\\s+P[ÚU]BLICO\"\n",
    "    if re.search(pattern_branch, text_pdf):\n",
    "        metadatos[\"rama\"] = \"Rama Legislativa del poder publico\"\n",
    "    \n",
    "    # --- 10 Camara o Senado\n",
    "    pattern_entity = r\"(?i)(C[ÁA]MARA\\s+DE\\s+REPRESENTANTES|SENADO\\s+DE\\s+LA\\s+REP[ÚU]BLICA)\"\n",
    "    match_entity = re.search(pattern_entity, text_pdf)\n",
    "    if match_entity:\n",
    "        metadatos[\"camara\"] = match_entity.group(1)\n",
    "    \n",
    "    # --- 11 tipo de documento\n",
    "    pattern_type = r\"^(PONENCIA|ACTA|PROYECTO\\s+DE\\s+LEY| INFORME|RESOLUCI[ÓO]N|CONCEPTO|PROPOSICI[ÓO]N|CONSTANCIA|OBJECCIONES)(.*)\"\n",
    "    for linea in text_pdf.splitlines():  # Procesa línea por línea\n",
    "        match_type = re.search(pattern_type, linea, re.IGNORECASE)\n",
    "        if match_type:\n",
    "            metadatos[\"tipo_documento\"] = match_type.group(1).strip()\n",
    "            metadatos[\"descripcion\"] = match_type.group(2).strip()\n",
    "            break\n",
    "    return metadatos"
   ]
  },
  {
   "cell_type": "code",
   "execution_count": 25,
   "metadata": {},
   "outputs": [],
   "source": [
    "def whole_number(romano):\n",
    "    \"\"\"Change from number roman to number whole\"\"\"\n",
    "    values = {\"M\":1000, 'CM': 900, 'D': 500, 'C': 100, 'XC': 90, 'L': 50, 'XL': 40, 'X': 10, 'IX': 9, 'V': 5, 'IV': 4, 'I': 1}\n",
    "    entire = 0\n",
    "    i = 0\n",
    "    while i < len(romano):\n",
    "        if i + 1 < len(romano) and romano[i:i+2] in values:\n",
    "            entire += values[romano[i+i+2]]\n",
    "            i += 2\n",
    "        else:\n",
    "            entire += values[romano[i]]\n",
    "            i += 1\n",
    "        return entire"
   ]
  },
  {
   "cell_type": "code",
   "execution_count": null,
   "metadata": {},
   "outputs": [],
   "source": [
    "test_text = \"\"\"\n",
    "REPÚBLICA DE COLOMBIA\n",
    "CONGRESO\n",
    "DE LA REPÚBLICA\n",
    "DE COLOMBIA\n",
    "SENADO DE LA REPÚBLICA\n",
    "GACETA DEL CONGRESO\n",
    "AÑO XXXII - N° 17\n",
    "DIRECTORES:\n",
    "SENADO Y CÁMARA\n",
    "(Artículo 36, Ley 5ª de 1992)\n",
    "IMPRENTA NACIONAL DE COLOMBIA\n",
    "www.imprenta.gov.co\n",
    "Bogotá, D. C., jueves, 9 de febrero de 2023\n",
    "GREGORIO ELJACH PACHECO\n",
    "SECRETARIO GENERAL DEL SENADO\n",
    "www.secretariasenado.gov.co\n",
    "ISSN 0123 - 9066\n",
    "EDICIÓN DE 22 PÁGINAS\n",
    "JAIME LUIS LACOUTURE PEÑALOZA\n",
    "SECRETARIO GENERAL DE LA CÁMARA\n",
    "www.camara.gov.co\n",
    "RAMA LEGISLATIVA DEL PODER PÚBLICO\n",
    "SENADO DE LA REPÚBLICA\n",
    "CONCEPTOS JURÍDICOS\n",
    "CONCEPTO JURÍDICO DEL  MINISTERIO DE SALUD Y PROTECCIÓN SOCIAL SOBRE...\n",
    "\"\"\""
   ]
  },
  {
   "cell_type": "code",
   "execution_count": null,
   "metadata": {},
   "outputs": [
    {
     "name": "stdout",
     "output_type": "stream",
     "text": [
      "{'fecha': '09/02/2023', 'anio_romano': 'XXXII', 'anio': 10, 'nombre': 'Gaceta del congreso', 'rama': 'Rama Legislativa del poder publico', 'camara': 'SENADO DE LA REPÚBLICA', 'tipo_documento': 'CONCEPTO', 'descripcion': 'S JURÍDICOS'}\n"
     ]
    }
   ],
   "source": [
    "metadatos = extraer_metados_gaceta(test_text)\n",
    "print(metadatos) "
   ]
  }
 ],
 "metadata": {
  "kernelspec": {
   "display_name": "Extract",
   "language": "python",
   "name": "python3"
  },
  "language_info": {
   "codemirror_mode": {
    "name": "ipython",
    "version": 3
   },
   "file_extension": ".py",
   "mimetype": "text/x-python",
   "name": "python",
   "nbconvert_exporter": "python",
   "pygments_lexer": "ipython3",
   "version": "3.12.9"
  }
 },
 "nbformat": 4,
 "nbformat_minor": 2
}
