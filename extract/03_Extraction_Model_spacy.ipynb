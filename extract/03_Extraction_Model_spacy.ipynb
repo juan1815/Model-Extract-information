{
 "cells": [
  {
   "cell_type": "code",
   "execution_count": 91,
   "metadata": {},
   "outputs": [],
   "source": [
    "import re\n",
    "import spacy\n",
    "from spacy.matcher import Matcher\n",
    "import fitz\n",
    "import os\n"
   ]
  },
  {
   "cell_type": "code",
   "execution_count": 92,
   "metadata": {},
   "outputs": [],
   "source": [
    "# Descargar el modelo si no está instalado\n",
    "try:\n",
    "    nlp = spacy.load(\"es_core_news_sm\")\n",
    "except OSError:\n",
    "    from spacy.cli import download\n",
    "    download(\"es_core_news_sm\")\n",
    "    nlp = spacy.load(\"es_core_news_sm\")\n",
    "\n",
    "matcher = Matcher(nlp.vocab)\n",
    "    "
   ]
  },
  {
   "cell_type": "code",
   "execution_count": 93,
   "metadata": {},
   "outputs": [],
   "source": [
    "def extraer_metadatos_gaceta(ruta_pdf):\n",
    "    \"\"\"\n",
    "    Extrae metadatos de una     gaceta del Congreso usando un enfoque híbrido.\n",
    "    \"\"\"\n",
    "    metadatos = {}\n",
    "\n",
    "    try:\n",
    "        with fitz.open(ruta_pdf) as doc:  # Abre el PDF con fitz (PyMuPDF)\n",
    "            texto_completo = \"\"\n",
    "            for pagina in doc:\n",
    "                texto_completo += pagina.get_text()\n",
    "                \n",
    "            texto_completo = preprocesar_texto(texto_completo)\n",
    "\n",
    "            doc = nlp(texto_completo)\n",
    "\n",
    "            # --- 1. Regex para patrones consistentes ---\n",
    "            metadatos[\"numero_gaceta\"] = extraer_con_regex(r\"AÑO\\s+(.*?)\\s+-\\s+N.°\\s+(\\d+)\", texto_completo)\n",
    "            metadatos[\"issn\"] = extraer_con_regex(r\"ISSN\\s+(\\d{4}\\s*-\\s*\\d+)\", texto_completo)\n",
    "            metadatos[\"num_paginas\"] = extraer_con_regex(r\"EDICIÓN\\s+DE\\s+(\\d+)\\s+PÁGINAS\", texto_completo)\n",
    "\n",
    "            # 2. Entidad (Senado/Cámara) - Regex (más robusto)\n",
    "            match_entity = re.search(r\"(?i)(SENADO Y CÁMARA|SENADO|CÁMARA)\", texto_completo)\n",
    "            if match_entity:\n",
    "                entity = match_entity.group(1).strip() \n",
    "                if entity == \"SENADO Y CÁMARA\":\n",
    "                    metadatos[\"entidades\"] = [\"SENADO\", \"CÁMARA\", \"SENADO Y CAMARA\"]\n",
    "                else:\n",
    "                    metadatos[\"entidades\"] = [entity]\n",
    "\n",
    "            # --- 3. Año (Números Romanos) --- (Regex)\n",
    "            pattern_anio = r\"AÑO\\s+([MDCLXVI]+)\" #Expresión regular simplificada\n",
    "            match_anio = re.search(pattern_anio, texto_completo, re.IGNORECASE)\n",
    "\n",
    "            if match_anio:\n",
    "                romano = match_anio.group(1)\n",
    "                metadatos[\"anio_romano\"] = romano\n",
    "                metadatos[\"anio\"] = romano_a_entero(romano)\n",
    "\n",
    "            # --- 4. Rama Legislativa --- (Regex)\n",
    "            pattern_branch = r\"(?i)RAMA\\s+LEGISLATIVA\\s+DEL\\s+PODER\\s+PÚBLICO\"\n",
    "            if re.search(pattern_branch, texto_completo):\n",
    "                metadatos[\"rama\"] = \"Rama Legislativa del Poder Público\"\n",
    "\n",
    "             # --- 5. spaCy para entidades y contexto ---\n",
    "\n",
    "            # 5. Directores (spaCy + Matcher, lista de etiquetas POS)\n",
    "            directores = []\n",
    "            patron_directores = [{\"LOWER\": \"directores\"}, {\"POS\": {\"IN\": [\"PROPN\", \"ADJ\",\"NOUN\"]}, \"OP\": \"+\"}] \n",
    "            matcher.add(\"DIRECTORES\", [patron_directores])\n",
    "            matches = matcher(doc)\n",
    "            for _, start, end in matches:\n",
    "                span = doc[start:end]\n",
    "                nombres_en_span = [token.text for token in span if token.pos_ in [\"PROPN\", \"ADJ\", \"NOUN\"]] \n",
    "                directores.extend(nombres_en_span[1:])\n",
    "            metadatos[\"directores\"] = \", \".join(directores)\n",
    "\n",
    "\n",
    "            # 6. Tipo de Documento / Descripción - Regex + spaCy (más robusto)\n",
    "            pattern_tipo_documento = r\"(?i)^(CAMARA DE REPRESENTANTES|PROYECTOS DE LEY|SENADO DE LA REPÚBLICA|COMENTARIOS|PONENCIAS|ACTA|PROYECTO DE LEY|INFORME|RESOLUCIÓN|CONCEPTO|PROPOSICIÓN|CONSTANCIA|OBJECIONES|CONCEPTOS JURÍDICOS|LEYES SANCIONADAS|PRESENTACIÓN)(.*)\"\n",
    "            for oracion in doc.sents:\n",
    "                match = re.search(pattern_tipo_documento, oracion.text, re.MULTILINE | re.DOTALL)\n",
    "                if match:\n",
    "                    metadatos[\"tipo_documento\"] = match.group(1).strip()\n",
    "                    metadatos[\"subtitulo\"] = match.group(2).strip()\n",
    "                    #metadatos[\"subsubtitulo\"] = match.group(3).strip()\n",
    "                    break #rompe el ciclo cuando se encuentra la coincidencia\n",
    "\n",
    "\n",
    "\n",
    "    except FileNotFoundError:\n",
    "        print(f\"Error: No se pudo encontrar el archivo PDF: {ruta_pdf}\")\n",
    "        return None\n",
    "    except Exception as e:\n",
    "        print(f\"Error al procesar el PDF {ruta_pdf}: {e}\")\n",
    "        return None\n",
    "        \n",
    "    return metadatos\n",
    "\n"
   ]
  },
  {
   "cell_type": "code",
   "execution_count": 94,
   "metadata": {},
   "outputs": [],
   "source": [
    "def extraer_con_regex(patron, texto):\n",
    "\n",
    "    coincidencia = re.search(patron, texto, re.IGNORECASE)\n",
    "    if coincidencia:\n",
    "\n",
    "        return coincidencia.group(1).replace(\" \", \"\") if len(coincidencia.groups()) == 1 else tuple(grupo.replace(\" \", \"\") for grupo in coincidencia.groups())\n",
    "    return None"
   ]
  },
  {
   "cell_type": "code",
   "execution_count": 95,
   "metadata": {},
   "outputs": [],
   "source": [
    "def preprocesar_texto(texto):\n",
    "\n",
    "    texto = texto.replace(\"-\\n\", \"\")\n",
    "    texto = texto.replace(\"\\n\", \" \")\n",
    "    texto = re.sub(r\"\\s+\", \" \", texto)\n",
    "    texto = texto.strip()\n",
    "    return texto"
   ]
  },
  {
   "cell_type": "code",
   "execution_count": 96,
   "metadata": {},
   "outputs": [],
   "source": [
    "def romano_a_entero(romano):\n",
    "    \"\"\"Convierte un número romano a entero.\"\"\"\n",
    "    valores = {'M': 1000, 'CM': 900, 'D': 500, 'CD': 400, 'C': 100, 'XC': 90,\n",
    "               'L': 50, 'XL': 40, 'X': 10, 'IX': 9, 'V': 5, 'IV': 4, 'I': 1}\n",
    "    entero = 0\n",
    "    i = 0\n",
    "    while i < len(romano):\n",
    "        if i + 1 < len(romano) and romano[i:i+2] in valores:\n",
    "            entero += valores[romano[i:i+2]]\n",
    "            i += 2\n",
    "        else:\n",
    "            entero += valores[romano[i]]\n",
    "            i += 1\n",
    "    return entero"
   ]
  },
  {
   "cell_type": "code",
   "execution_count": 97,
   "metadata": {},
   "outputs": [
    {
     "name": "stdout",
     "output_type": "stream",
     "text": [
      "{'numero_gaceta': None, 'issn': None, 'num_paginas': '64', 'entidades': ['SENADO', 'CÁMARA', 'SENADO Y CAMARA'], 'anio_romano': 'XXV', 'anio': 25, 'rama': 'Rama Legislativa del Poder Público', 'directores': '', 'tipo_documento': 'COMENTARIOS', 'subtitulo': 'COMENTARIOS AL PROYECTO DE LEY NUMERO 97 DE 2015 SENADO \"por la cual se prohibe la produccion, comercializacion, exportacion, importacion y distribucion de cualquier variedad de asbesto en Colombia - COMENTARIOS DE LA ASOCIACION COLOMBIANA DE FIBRAS -ASCOLFIBRAS RESENA respecto a la diferencia entre el crisotilo y los asbestos anfiboles CRISOTILO Agosto 2009 \"El asbesto\\' no es en si un mineral.'}\n"
     ]
    }
   ],
   "source": [
    "\n",
    "# --- Ejemplo de Uso ---\n",
    "ruta_gaceta = r\"C:\\Users\\Jorge\\OneDrive\\Documents\\proyect\\document\\20160328_XXV_110_64.pdf\"\n",
    "datos_extraidos = extraer_metadatos_gaceta(ruta_gaceta)\n",
    "\n",
    "\n",
    "if datos_extraidos:\n",
    "    print(datos_extraidos)"
   ]
  }
 ],
 "metadata": {
  "kernelspec": {
   "display_name": "Extract",
   "language": "python",
   "name": "python3"
  },
  "language_info": {
   "codemirror_mode": {
    "name": "ipython",
    "version": 3
   },
   "file_extension": ".py",
   "mimetype": "text/x-python",
   "name": "python",
   "nbconvert_exporter": "python",
   "pygments_lexer": "ipython3",
   "version": "3.12.9"
  }
 },
 "nbformat": 4,
 "nbformat_minor": 2
}
