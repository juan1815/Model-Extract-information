{
 "cells": [
  {
   "cell_type": "code",
   "execution_count": 105,
   "metadata": {},
   "outputs": [],
   "source": [
    "import re\n",
    "import spacy\n",
    "from spacy.matcher import Matcher\n",
    "import fitz\n",
    "import os\n"
   ]
  },
  {
   "cell_type": "code",
   "execution_count": 106,
   "metadata": {},
   "outputs": [],
   "source": [
    "# Descargar el modelo si no está instalado\n",
    "try:\n",
    "    nlp = spacy.load(\"es_core_news_sm\")\n",
    "except OSError:\n",
    "    from spacy.cli import download\n",
    "    download(\"es_core_news_sm\")\n",
    "    nlp = spacy.load(\"es_core_news_sm\")\n",
    "\n",
    "matcher = Matcher(nlp.vocab)\n",
    "    "
   ]
  },
  {
   "cell_type": "code",
   "execution_count": 107,
   "metadata": {},
   "outputs": [],
   "source": [
    "def extraer_metadatos_gaceta(ruta_pdf):\n",
    "    \"\"\"\n",
    "    Extrae metadatos de una     gaceta del Congreso usando un enfoque híbrido.\n",
    "    \"\"\"\n",
    "    metadatos = {}\n",
    "\n",
    "    try:\n",
    "        with fitz.open(ruta_pdf) as doc:  \n",
    "            texto_completo = \"\"\n",
    "            for pagina in doc:\n",
    "                texto_completo += pagina.get_text()\n",
    "                \n",
    "            texto_completo = preprocesar_texto(texto_completo)\n",
    "            doc_spacy = nlp(texto_completo)\n",
    "\n",
    "            # --- 1. Regex para patrones consistentes ---\n",
    "            metadatos[\"numero_gaceta\"] = extraer_con_regex(r\"GACETA N\\.° (\\d+/\\d+)\", texto_completo)\n",
    "            metadatos[\"issn\"] = extraer_con_regex(r\"ISSN (\\d{4}-\\d{3}[\\dX])\", texto_completo)\n",
    "            metadatos[\"num_paginas\"] = extraer_con_regex(r\"EDICIÓN DE (\\d+) PÁGINAS\", texto_completo)\n",
    "\n",
    "            # 2. Entidad (Senado/Cámara) - Regex (más robusto)\n",
    "            match_entity = re.search(r\"(?i)(SENADO Y CÁMARA|SENADO|CÁMARA)\", texto_completo)\n",
    "            if match_entity:\n",
    "                entity = match_entity.group(1).strip() \n",
    "                if entity == \"SENADO Y CÁMARA\":\n",
    "                    metadatos[\"entidades\"] = [\"SENADO\", \"CÁMARA\", \"SENADO Y CAMARA\"]\n",
    "                else:\n",
    "                    metadatos[\"entidades\"] = [entity]\n",
    "\n",
    "            # --- 3. Año (Números Romanos) --- (Regex)\n",
    "            pattern_anio = r\"AÑO\\s+([MDCLXVI]+)\" #Expresión regular simplificada\n",
    "            match_anio = re.search(pattern_anio, texto_completo, re.IGNORECASE)\n",
    "\n",
    "            if match_anio:\n",
    "                romano = match_anio.group(1)\n",
    "                metadatos[\"anio_romano\"] = romano\n",
    "                metadatos[\"anio\"] = romano_a_entero(romano)\n",
    "\n",
    "            # --- 4. Rama Legislativa --- (Regex)\n",
    "            pattern_branch = r\"(?i)RAMA\\s+LEGISLATIVA\\s+DEL\\s+PODER\\s+PÚBLICO\"\n",
    "            if re.search(pattern_branch, texto_completo):\n",
    "                metadatos[\"rama\"] = \"Rama Legislativa del Poder Público\"\n",
    "\n",
    "             # --- 5. spaCy para entidades y contexto ---\n",
    "\n",
    "        \n",
    "            # 5. Directores (Matcher + Regex para mayor robustez)\n",
    "            patron_directores = [{\"LOWER\": \"directores\"}, {\"POS\": \"PROPN\", \"OP\": \"+\"}]\n",
    "            matcher.add(\"DIRECTORES\", [patron_directores])\n",
    "            matches = matcher(doc_spacy)\n",
    "            directores = []\n",
    "            for _, start, end in matches:\n",
    "                span = doc_spacy[start:end]\n",
    "                texto_directores = span.text\n",
    "                nombres = re.findall(r\"([A-Z]+(?:\\s+[A-Z]+)+)\", texto_directores)\n",
    "                directores.extend(nombres)\n",
    "            metadatos[\"directores\"] = \", \".join(directores)\n",
    "\n",
    "\n",
    "\n",
    "            # Tipo de Documento / Descripción - Regex + spaCy\n",
    "            pattern_tipo_documento = r\"(?i)(CAMARA DE REPRESENTANTES|PROYECTOS DE LEY|SENADO DE LA REPÚBLICA|COMENTARIOS|PONENCIAS|ACTA|PROYECTO DE LEY|INFORME|RESOLUCIÓN|CONCEPTO|PROPOSICIÓN|CONSTANCIA|OBJECIONES|CONCEPTOS JURÍDICOS|LEYES SANCIONADAS|PRESENTACIÓN)(.*)\"\n",
    "            for oracion in doc_spacy.sents:\n",
    "                match = re.search(pattern_tipo_documento, oracion.text, re.MULTILINE | re.DOTALL)\n",
    "                if match:\n",
    "                    metadatos[\"tipo_documento\"] = match.group(1).strip()\n",
    "                    metadatos[\"subtitulo\"] = match.group(2).strip()\n",
    "                    break\n",
    "\n",
    "    except FileNotFoundError:\n",
    "        print(f\"Error: No se pudo encontrar el archivo PDF: {ruta_pdf}\")\n",
    "        return None\n",
    "    except Exception as e:\n",
    "        print(f\"Error al procesar el PDF {ruta_pdf}: {e}\")\n",
    "        return None\n",
    "\n",
    "    return metadatos\n"
   ]
  },
  {
   "cell_type": "code",
   "execution_count": 108,
   "metadata": {},
   "outputs": [],
   "source": [
    "def extraer_con_regex(patron, texto):\n",
    "\n",
    "    coincidencia = re.search(patron, texto, re.IGNORECASE)\n",
    "    if coincidencia:\n",
    "        return coincidencia.group(1).replace(\" \", \"\") if len(coincidencia.groups()) == 1 else tuple(grupo.replace(\" \", \"\") for grupo in coincidencia.groups())\n",
    "    return None"
   ]
  },
  {
   "cell_type": "code",
   "execution_count": 109,
   "metadata": {},
   "outputs": [],
   "source": [
    "def preprocesar_texto(texto):\n",
    "\n",
    "    texto = texto.replace(\"-\\n\", \"\")\n",
    "    texto = texto.replace(\"\\n\", \" \")\n",
    "    texto = re.sub(r\"\\s+\", \" \", texto)\n",
    "    texto = texto.strip()\n",
    "    return texto"
   ]
  },
  {
   "cell_type": "code",
   "execution_count": 110,
   "metadata": {},
   "outputs": [],
   "source": [
    "def romano_a_entero(romano):\n",
    "    \"\"\"Convierte un número romano a entero.\"\"\"\n",
    "    valores = {'M': 1000, 'CM': 900, 'D': 500, 'CD': 400, 'C': 100, 'XC': 90,\n",
    "               'L': 50, 'XL': 40, 'X': 10, 'IX': 9, 'V': 5, 'IV': 4, 'I': 1}\n",
    "    entero = 0\n",
    "    i = 0\n",
    "    while i < len(romano):\n",
    "        if i + 1 < len(romano) and romano[i:i+2] in valores:\n",
    "            entero += valores[romano[i:i+2]]\n",
    "            i += 2\n",
    "        else:\n",
    "            entero += valores[romano[i]]\n",
    "            i += 1\n",
    "    return entero"
   ]
  },
  {
   "cell_type": "code",
   "execution_count": 111,
   "metadata": {},
   "outputs": [
    {
     "name": "stdout",
     "output_type": "stream",
     "text": [
      "{'numero_gaceta': None, 'issn': None, 'num_paginas': '64', 'entidades': ['SENADO', 'CÁMARA', 'SENADO Y CAMARA'], 'anio_romano': 'XXV', 'anio': 25, 'rama': 'Rama Legislativa del Poder Público', 'directores': '', 'tipo_documento': 'COMENTARIOS', 'subtitulo': 'AL PROYECTO DE LEY NÚMERO 97 DE 2015 SENADO “por la cual se prohíbe la producción, comercialización, exportación, importación y distribución de cualquier variedad de asbesto en Colombia”.'}\n"
     ]
    }
   ],
   "source": [
    "\n",
    "# --- Ejemplo de Uso ---\n",
    "ruta_gaceta = r\"C:\\Users\\Jorge\\OneDrive\\Documents\\proyect\\document\\20160328_XXV_110_64.pdf\"\n",
    "datos_extraidos = extraer_metadatos_gaceta(ruta_gaceta)\n",
    "\n",
    "\n",
    "if datos_extraidos:\n",
    "    print(datos_extraidos)"
   ]
  }
 ],
 "metadata": {
  "kernelspec": {
   "display_name": "Extract",
   "language": "python",
   "name": "python3"
  },
  "language_info": {
   "codemirror_mode": {
    "name": "ipython",
    "version": 3
   },
   "file_extension": ".py",
   "mimetype": "text/x-python",
   "name": "python",
   "nbconvert_exporter": "python",
   "pygments_lexer": "ipython3",
   "version": "3.12.9"
  }
 },
 "nbformat": 4,
 "nbformat_minor": 2
}
