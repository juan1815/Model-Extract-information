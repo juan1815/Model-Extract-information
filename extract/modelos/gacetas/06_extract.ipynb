{
 "cells": [
  {
   "cell_type": "markdown",
   "metadata": {},
   "source": [
    "pip install torch torchvision torchaudio\n",
    "pip install opencv-python\n",
    "pip install detectron2 -f https://dl.fbaipublicfiles.com/detectron2/wheels/cu113/torch1.10/index.html"
   ]
  },
  {
   "cell_type": "code",
   "execution_count": 1,
   "metadata": {},
   "outputs": [],
   "source": [
    "import re\n",
    "import fitz\n",
    "import spacy \n",
    "from spacy.matcher import Matcher\n",
    "from  transformers import LayoutLMForTokenClassification, LayoutLMTokenizer\n",
    "import torch"
   ]
  },
  {
   "cell_type": "code",
   "execution_count": 2,
   "metadata": {},
   "outputs": [
    {
     "name": "stdout",
     "output_type": "stream",
     "text": [
      "2.6.0+cpu\n",
      "False\n"
     ]
    }
   ],
   "source": [
    "print(torch.__version__)\n",
    "print(torch.cuda.is_available())"
   ]
  },
  {
   "cell_type": "code",
   "execution_count": 3,
   "metadata": {},
   "outputs": [],
   "source": [
    "def limpiar_texto(texto):\n",
    "    \"\"\"Normaliza y limpia el texto para mejorar la extracción de metadatos.\"\"\"\n",
    "    texto = re.sub(r'\\s+', ' ', texto)  # Remueve espacios extra\n",
    "    texto = re.sub(r'[^\\x20-\\x7E\\xC0-\\xFF]', '', texto)  # Remueve caracteres especiales\n",
    "    return texto.strip()\n",
    "\n",
    "def leer_pdf(ruta_pdf):\n",
    "    \"\"\"Lee un archivo PDF y devuelve su contenido en texto limpio.\"\"\"\n",
    "    documento = fitz.open(ruta_pdf)\n",
    "    texto = \"\"\n",
    "    for pagina in documento:\n",
    "        texto += pagina.get_text(\"text\") + \"\\n\"\n",
    "    return limpiar_texto(texto)"
   ]
  },
  {
   "cell_type": "code",
   "execution_count": 4,
   "metadata": {},
   "outputs": [
    {
     "name": "stderr",
     "output_type": "stream",
     "text": [
      "Some weights of LayoutLMForTokenClassification were not initialized from the model checkpoint at microsoft/layoutlm-base-uncased and are newly initialized: ['classifier.bias', 'classifier.weight']\n",
      "You should probably TRAIN this model on a down-stream task to be able to use it for predictions and inference.\n"
     ]
    }
   ],
   "source": [
    "# Cargar modelos de NLP\n",
    "try:\n",
    "    nlp = spacy.load(\"es_core_news_sm\")\n",
    "except OSError:\n",
    "    from spacy.cli import download\n",
    "    download(\"es_core_news_sm\")\n",
    "    nlp = spacy.load(\"es_core_news_sm\")\n",
    "\n",
    "tokenizer = LayoutLMTokenizer.from_pretrained('microsoft/layoutlm-base-uncased')\n",
    "model = LayoutLMForTokenClassification.from_pretrained('microsoft/layoutlm-base-uncased', num_labels=13)\n",
    "\n",
    "def postprocess_with_spacy(text, predicted_labels):\n",
    "    \"\"\"Postprocesa el texto y las etiquetas predichas usando spaCy.\"\"\"\n",
    "    doc = nlp(text)\n",
    "    entities = {}\n",
    "    \n",
    "    for token, label in zip(doc, predicted_labels):\n",
    "        if label != \"O\":  # Ignorar tokens fuera de entidades\n",
    "            if label not in entities:\n",
    "                entities[label] = []\n",
    "            entities[label].append(token.text)\n",
    "    \n",
    "    # Unir tokens en frases completas\n",
    "    for key in entities:\n",
    "        entities[key] = \" \".join(entities[key])\n",
    "    \n",
    "    return entities\n",
    "    "
   ]
  },
  {
   "cell_type": "code",
   "execution_count": 5,
   "metadata": {},
   "outputs": [],
   "source": [
    "\n",
    "def extraer_metadata(pdf_path):\n",
    "    \"\"\"Extrae la metadata estructurada en JSON desde un PDF.\"\"\"\n",
    "    texto = leer_pdf(pdf_path)\n",
    "    inputs = tokenizer(texto, return_tensors=\"pt\", truncation=True, padding=True)\n",
    "    outputs = model(**inputs).logits\n",
    "    predictions = torch.argmax(outputs, dim=-1).squeeze().tolist()\n",
    "    labels = [\"O\", \"ISSN\", \"FECHA\", \"ENTIDAD\", \"AÑO_ROMANO\", \"NUMERO_PUBLICACION\", \"DIRECTOR_SENADO_NOMBRE\", \"DIRECTOR_SENADO_CARGO\", \"DIRECTOR_CAMARA_NOMBRE\", \"DIRECTOR_CAMARA_CARGO\", \"TIPO_DOCUMENTO\", \"SUBTITULO\", \"SUBSUBTITULO\"]\n",
    "    predicted_labels = [labels[p] for p in predictions]\n",
    "    metadata = postprocess_with_spacy(texto, predicted_labels)\n",
    "    \n",
    "    # Estructurar en JSON validado\n",
    "    json_output = {\n",
    "        \"titulo\": \"Gaceta del Congreso\",\n",
    "        \"Entidaes\": \"SENADO Y CAMARA\",\n",
    "        \"Articulo\": \"(Articulo 36,  Ley 5a de 1992)\",\n",
    "        \"issn\": metadata.get(\"ISSN\", \"No encontrado\"),\n",
    "        \"fecha\": metadata.get(\"FECHA\", \"No encontrado\"),\n",
    "        \"entidad\": metadata.get(\"ENTIDAD\", \"No encontrado\"),\n",
    "        \"numero_publicacion\": metadata.get(\"NUMERO_PUBLICACION\", \"No encontrado\"),\n",
    "        \"directores\": {\n",
    "            \"senado\": {\n",
    "                \"nombre\": metadata.get(\"DIRECTOR_SENADO_NOMBRE\", \"No encontrado\"),\n",
    "                \"cargo\": metadata.get(\"DIRECTOR_SENADO_CARGO\", \"No encontrado\")\n",
    "            },\n",
    "            \"camara\": {\n",
    "                \"nombre\": metadata.get(\"DIRECTOR_CAMARA_NOMBRE\", \"No encontrado\"),\n",
    "                \"cargo\": metadata.get(\"DIRECTOR_CAMARA_CARGO\", \"No encontrado\")\n",
    "            }\n",
    "        },\n",
    "        \"tipo_documento\": metadata.get(\"TIPO_DOCUMENTO\", \"No encontrado\"),\n",
    "        \"subtitulo\": metadata.get(\"SUBTITULO\", \"No encontrado\"),\n",
    "        \"subsubtitulo\": metadata.get(\"SUBSUBTITULO\", \"No encontrado\")\n",
    "    }\n",
    "    \n",
    "    return json_output\n"
   ]
  },
  {
   "cell_type": "code",
   "execution_count": 6,
   "metadata": {},
   "outputs": [
    {
     "ename": "FileNotFoundError",
     "evalue": "no such file: 'C:\\Users\\Jorge\\OneDrive\\Documents\\proyect\\document\\20160328_XXV_110_64_removed.pdf'",
     "output_type": "error",
     "traceback": [
      "\u001b[1;31m---------------------------------------------------------------------------\u001b[0m",
      "\u001b[1;31mFileNotFoundError\u001b[0m                         Traceback (most recent call last)",
      "\u001b[1;32m~\\AppData\\Local\\Temp\\ipykernel_14680\\1257571227.py\u001b[0m in \u001b[0;36m?\u001b[1;34m()\u001b[0m\n\u001b[0;32m      1\u001b[0m \u001b[0mruta_gaceta\u001b[0m \u001b[1;33m=\u001b[0m \u001b[1;34mr\"C:\\Users\\Jorge\\OneDrive\\Documents\\proyect\\document\\20160328_XXV_110_64_removed.pdf\"\u001b[0m\u001b[1;33m\u001b[0m\u001b[1;33m\u001b[0m\u001b[0m\n\u001b[1;32m----> 2\u001b[1;33m \u001b[0mresultado\u001b[0m \u001b[1;33m=\u001b[0m \u001b[0mextraer_metadata\u001b[0m\u001b[1;33m(\u001b[0m\u001b[0mruta_gaceta\u001b[0m\u001b[1;33m)\u001b[0m\u001b[1;33m\u001b[0m\u001b[1;33m\u001b[0m\u001b[0m\n\u001b[0m\u001b[0;32m      3\u001b[0m \u001b[0mprint\u001b[0m\u001b[1;33m(\u001b[0m\u001b[0mresultado\u001b[0m\u001b[1;33m)\u001b[0m\u001b[1;33m\u001b[0m\u001b[1;33m\u001b[0m\u001b[0m\n",
      "\u001b[1;32m~\\AppData\\Local\\Temp\\ipykernel_14680\\1461702245.py\u001b[0m in \u001b[0;36m?\u001b[1;34m(pdf_path)\u001b[0m\n\u001b[0;32m      1\u001b[0m \u001b[1;32mdef\u001b[0m \u001b[0mextraer_metadata\u001b[0m\u001b[1;33m(\u001b[0m\u001b[0mpdf_path\u001b[0m\u001b[1;33m)\u001b[0m\u001b[1;33m:\u001b[0m\u001b[1;33m\u001b[0m\u001b[1;33m\u001b[0m\u001b[0m\n\u001b[0;32m      2\u001b[0m     \u001b[1;34m\"\"\"Extrae la metadata estructurada en JSON desde un PDF.\"\"\"\u001b[0m\u001b[1;33m\u001b[0m\u001b[1;33m\u001b[0m\u001b[0m\n\u001b[1;32m----> 3\u001b[1;33m     \u001b[0mtexto\u001b[0m \u001b[1;33m=\u001b[0m \u001b[0mleer_pdf\u001b[0m\u001b[1;33m(\u001b[0m\u001b[0mpdf_path\u001b[0m\u001b[1;33m)\u001b[0m\u001b[1;33m\u001b[0m\u001b[1;33m\u001b[0m\u001b[0m\n\u001b[0m\u001b[0;32m      4\u001b[0m     \u001b[0minputs\u001b[0m \u001b[1;33m=\u001b[0m \u001b[0mtokenizer\u001b[0m\u001b[1;33m(\u001b[0m\u001b[0mtexto\u001b[0m\u001b[1;33m,\u001b[0m \u001b[0mreturn_tensors\u001b[0m\u001b[1;33m=\u001b[0m\u001b[1;34m\"pt\"\u001b[0m\u001b[1;33m,\u001b[0m \u001b[0mtruncation\u001b[0m\u001b[1;33m=\u001b[0m\u001b[1;32mTrue\u001b[0m\u001b[1;33m,\u001b[0m \u001b[0mpadding\u001b[0m\u001b[1;33m=\u001b[0m\u001b[1;32mTrue\u001b[0m\u001b[1;33m)\u001b[0m\u001b[1;33m\u001b[0m\u001b[1;33m\u001b[0m\u001b[0m\n\u001b[0;32m      5\u001b[0m     \u001b[0moutputs\u001b[0m \u001b[1;33m=\u001b[0m \u001b[0mmodel\u001b[0m\u001b[1;33m(\u001b[0m\u001b[1;33m**\u001b[0m\u001b[0minputs\u001b[0m\u001b[1;33m)\u001b[0m\u001b[1;33m.\u001b[0m\u001b[0mlogits\u001b[0m\u001b[1;33m\u001b[0m\u001b[1;33m\u001b[0m\u001b[0m\n\u001b[0;32m      6\u001b[0m     \u001b[0mpredictions\u001b[0m \u001b[1;33m=\u001b[0m \u001b[0mtorch\u001b[0m\u001b[1;33m.\u001b[0m\u001b[0margmax\u001b[0m\u001b[1;33m(\u001b[0m\u001b[0moutputs\u001b[0m\u001b[1;33m,\u001b[0m \u001b[0mdim\u001b[0m\u001b[1;33m=\u001b[0m\u001b[1;33m-\u001b[0m\u001b[1;36m1\u001b[0m\u001b[1;33m)\u001b[0m\u001b[1;33m.\u001b[0m\u001b[0msqueeze\u001b[0m\u001b[1;33m(\u001b[0m\u001b[1;33m)\u001b[0m\u001b[1;33m.\u001b[0m\u001b[0mtolist\u001b[0m\u001b[1;33m(\u001b[0m\u001b[1;33m)\u001b[0m\u001b[1;33m\u001b[0m\u001b[1;33m\u001b[0m\u001b[0m\n",
      "\u001b[1;32m~\\AppData\\Local\\Temp\\ipykernel_14680\\265781302.py\u001b[0m in \u001b[0;36m?\u001b[1;34m(ruta_pdf)\u001b[0m\n\u001b[0;32m      7\u001b[0m \u001b[1;32mdef\u001b[0m \u001b[0mleer_pdf\u001b[0m\u001b[1;33m(\u001b[0m\u001b[0mruta_pdf\u001b[0m\u001b[1;33m)\u001b[0m\u001b[1;33m:\u001b[0m\u001b[1;33m\u001b[0m\u001b[1;33m\u001b[0m\u001b[0m\n\u001b[0;32m      8\u001b[0m     \u001b[1;34m\"\"\"Lee un archivo PDF y devuelve su contenido en texto limpio.\"\"\"\u001b[0m\u001b[1;33m\u001b[0m\u001b[1;33m\u001b[0m\u001b[0m\n\u001b[1;32m----> 9\u001b[1;33m     \u001b[0mdocumento\u001b[0m \u001b[1;33m=\u001b[0m \u001b[0mfitz\u001b[0m\u001b[1;33m.\u001b[0m\u001b[0mopen\u001b[0m\u001b[1;33m(\u001b[0m\u001b[0mruta_pdf\u001b[0m\u001b[1;33m)\u001b[0m\u001b[1;33m\u001b[0m\u001b[1;33m\u001b[0m\u001b[0m\n\u001b[0m\u001b[0;32m     10\u001b[0m     \u001b[0mtexto\u001b[0m \u001b[1;33m=\u001b[0m \u001b[1;34m\"\"\u001b[0m\u001b[1;33m\u001b[0m\u001b[1;33m\u001b[0m\u001b[0m\n\u001b[0;32m     11\u001b[0m     \u001b[1;32mfor\u001b[0m \u001b[0mpagina\u001b[0m \u001b[1;32min\u001b[0m \u001b[0mdocumento\u001b[0m\u001b[1;33m:\u001b[0m\u001b[1;33m\u001b[0m\u001b[1;33m\u001b[0m\u001b[0m\n\u001b[0;32m     12\u001b[0m         \u001b[0mtexto\u001b[0m \u001b[1;33m+=\u001b[0m \u001b[0mpagina\u001b[0m\u001b[1;33m.\u001b[0m\u001b[0mget_text\u001b[0m\u001b[1;33m(\u001b[0m\u001b[1;34m\"text\"\u001b[0m\u001b[1;33m)\u001b[0m \u001b[1;33m+\u001b[0m \u001b[1;34m\"\\n\"\u001b[0m\u001b[1;33m\u001b[0m\u001b[1;33m\u001b[0m\u001b[0m\n",
      "\u001b[1;32mc:\\Users\\Jorge\\anaconda3\\envs\\Extract\\Lib\\site-packages\\pymupdf\\__init__.py\u001b[0m in \u001b[0;36m?\u001b[1;34m(self, filename, stream, filetype, rect, width, height, fontsize)\u001b[0m\n\u001b[0;32m   3035\u001b[0m                     \u001b[0mself\u001b[0m\u001b[1;33m.\u001b[0m\u001b[0mpage_count2\u001b[0m \u001b[1;33m=\u001b[0m \u001b[0mextra\u001b[0m\u001b[1;33m.\u001b[0m\u001b[0mpage_count_pdf\u001b[0m\u001b[1;33m\u001b[0m\u001b[1;33m\u001b[0m\u001b[0m\n\u001b[0;32m   3036\u001b[0m                 \u001b[1;32melse\u001b[0m\u001b[1;33m:\u001b[0m\u001b[1;33m\u001b[0m\u001b[1;33m\u001b[0m\u001b[0m\n\u001b[0;32m   3037\u001b[0m                     \u001b[0mself\u001b[0m\u001b[1;33m.\u001b[0m\u001b[0mpage_count2\u001b[0m \u001b[1;33m=\u001b[0m \u001b[0mextra\u001b[0m\u001b[1;33m.\u001b[0m\u001b[0mpage_count_fz\u001b[0m\u001b[1;33m\u001b[0m\u001b[1;33m\u001b[0m\u001b[0m\n\u001b[0;32m   3038\u001b[0m         \u001b[1;32mfinally\u001b[0m\u001b[1;33m:\u001b[0m\u001b[1;33m\u001b[0m\u001b[1;33m\u001b[0m\u001b[0m\n\u001b[1;32m-> 3039\u001b[1;33m             \u001b[0mJM_mupdf_show_errors\u001b[0m \u001b[1;33m=\u001b[0m \u001b[0mJM_mupdf_show_errors_old\u001b[0m\u001b[1;33m\u001b[0m\u001b[1;33m\u001b[0m\u001b[0m\n\u001b[0m",
      "\u001b[1;31mFileNotFoundError\u001b[0m: no such file: 'C:\\Users\\Jorge\\OneDrive\\Documents\\proyect\\document\\20160328_XXV_110_64_removed.pdf'"
     ]
    }
   ],
   "source": [
    "ruta_gaceta = r\"C:\\Users\\Jorge\\OneDrive\\Documents\\proyect\\document\\20160328_XXV_110_64_removed.pdf\"\n",
    "resultado = extraer_metadata(ruta_gaceta)\n",
    "print(resultado)"
   ]
  }
 ],
 "metadata": {
  "kernelspec": {
   "display_name": "Extract",
   "language": "python",
   "name": "python3"
  },
  "language_info": {
   "codemirror_mode": {
    "name": "ipython",
    "version": 3
   },
   "file_extension": ".py",
   "mimetype": "text/x-python",
   "name": "python",
   "nbconvert_exporter": "python",
   "pygments_lexer": "ipython3",
   "version": "3.12.9"
  }
 },
 "nbformat": 4,
 "nbformat_minor": 2
}
