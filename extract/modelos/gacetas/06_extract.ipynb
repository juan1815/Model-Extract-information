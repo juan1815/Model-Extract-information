{
 "cells": [
  {
   "cell_type": "markdown",
   "metadata": {},
   "source": [
    "pip install torch torchvision torchaudio\n",
    "pip install opencv-python\n",
    "pip install detectron2 -f https://dl.fbaipublicfiles.com/detectron2/wheels/cu113/torch1.10/index.html"
   ]
  },
  {
   "cell_type": "code",
   "execution_count": 25,
   "metadata": {},
   "outputs": [],
   "source": [
    "import re\n",
    "import fitz\n",
    "import spacy \n",
    "from spacy.matcher import Matcher\n",
    "from  transformers import LayoutLMForTokenClassification, LayoutLMTokenizer\n",
    "import torch"
   ]
  },
  {
   "cell_type": "code",
   "execution_count": null,
   "metadata": {},
   "outputs": [],
   "source": [
    "print(torch.__version__)\n",
    "print(torch.cuda.is_available())"
   ]
  },
  {
   "cell_type": "code",
   "execution_count": 26,
   "metadata": {},
   "outputs": [],
   "source": [
    "def limpiar_texto(texto):\n",
    "    \"\"\"Normaliza y limpia el texto para mejorar la extracción de metadatos.\"\"\"\n",
    "    texto = re.sub(r'\\s+', ' ', texto)  # Remueve espacios extra\n",
    "    texto = re.sub(r'[^\\x20-\\x7E\\xC0-\\xFF]', '', texto)  # Remueve caracteres especiales\n",
    "    return texto.strip()\n",
    "\n",
    "def leer_pdf(ruta_pdf):\n",
    "    \"\"\"Lee un archivo PDF y devuelve su contenido en texto limpio.\"\"\"\n",
    "    documento = fitz.open(ruta_pdf)\n",
    "    texto = \"\"\n",
    "    for pagina in documento:\n",
    "        texto += pagina.get_text(\"text\") + \"\\n\"\n",
    "    return limpiar_texto(texto)"
   ]
  },
  {
   "cell_type": "code",
   "execution_count": 27,
   "metadata": {},
   "outputs": [
    {
     "name": "stderr",
     "output_type": "stream",
     "text": [
      "Some weights of LayoutLMForTokenClassification were not initialized from the model checkpoint at microsoft/layoutlm-base-uncased and are newly initialized: ['classifier.bias', 'classifier.weight']\n",
      "You should probably TRAIN this model on a down-stream task to be able to use it for predictions and inference.\n"
     ]
    }
   ],
   "source": [
    "# Cargar modelos de NLP\n",
    "try:\n",
    "    nlp = spacy.load(\"es_core_news_sm\")\n",
    "except OSError:\n",
    "    from spacy.cli import download\n",
    "    download(\"es_core_news_sm\")\n",
    "    nlp = spacy.load(\"es_core_news_sm\")\n",
    "\n",
    "tokenizer = LayoutLMTokenizer.from_pretrained('microsoft/layoutlm-base-uncased')\n",
    "model = LayoutLMForTokenClassification.from_pretrained('microsoft/layoutlm-base-uncased', num_labels=13)\n",
    "\n",
    "def postprocess_with_spacy(text, predicted_labels):\n",
    "    \"\"\"Postprocesa el texto y las etiquetas predichas usando spaCy.\"\"\"\n",
    "    doc = nlp(text)\n",
    "    entities = {}\n",
    "    \n",
    "    for token, label in zip(doc, predicted_labels):\n",
    "        if label != \"O\":  # Ignorar tokens fuera de entidades\n",
    "            if label not in entities:\n",
    "                entities[label] = []\n",
    "            entities[label].append(token.text)\n",
    "    \n",
    "    # Unir tokens en frases completas\n",
    "    for key in entities:\n",
    "        entities[key] = \" \".join(entities[key])\n",
    "    \n",
    "    return entities\n",
    "    "
   ]
  },
  {
   "cell_type": "code",
   "execution_count": null,
   "metadata": {},
   "outputs": [],
   "source": [
    "\n",
    "def extraer_metadata(pdf_path):\n",
    "    \"\"\"Extrae la metadata estructurada en JSON desde un PDF.\"\"\"\n",
    "    texto = leer_pdf(pdf_path)\n",
    "    inputs = tokenizer(texto, return_tensors=\"pt\", truncation=True, padding=True)\n",
    "    outputs = model(**inputs).logits\n",
    "    predictions = torch.argmax(outputs, dim=-1).squeeze().tolist()\n",
    "    labels = [\"O\", \"ISSN\", \"FECHA\", \"ENTIDAD\", \"AÑO_ROMANO\", \"NUMERO_PUBLICACION\", \"DIRECTOR_SENADO_NOMBRE\", \"DIRECTOR_SENADO_CARGO\", \"DIRECTOR_CAMARA_NOMBRE\", \"DIRECTOR_CAMARA_CARGO\", \"TIPO_DOCUMENTO\", \"SUBTITULO\", \"SUBSUBTITULO\"]\n",
    "    predicted_labels = [labels[p] for p in predictions]\n",
    "    metadata = postprocess_with_spacy(texto, predicted_labels)\n",
    "    \n",
    "    # Estructurar en JSON validado\n",
    "    json_output = {\n",
    "        \"titulo\": \"Gaceta del Congreso\",\n",
    "        \"Entidaes\": \"SENADO Y CAMARA\",\n",
    "        \"Articulo\": \"(Articulo 36,  Ley 5a de 1992)\",\n",
    "        \"issn\": metadata.get(\"ISSN\", \"No encontrado\"),\n",
    "        \"fecha\": metadata.get(\"FECHA\", \"No encontrado\"),\n",
    "        \"entidad\": metadata.get(\"ENTIDAD\", \"No encontrado\"),\n",
    "        \"numero_publicacion\": metadata.get(\"NUMERO_PUBLICACION\", \"No encontrado\"),\n",
    "        \"directores\": {\n",
    "            \"senado\": {\n",
    "                \"nombre\": metadata.get(\"DIRECTOR_SENADO_NOMBRE\", \"No encontrado\"),\n",
    "                \"cargo\": metadata.get(\"DIRECTOR_SENADO_CARGO\", \"No encontrado\")\n",
    "            },\n",
    "            \"camara\": {\n",
    "                \"nombre\": metadata.get(\"DIRECTOR_CAMARA_NOMBRE\", \"No encontrado\"),\n",
    "                \"cargo\": metadata.get(\"DIRECTOR_CAMARA_CARGO\", \"No encontrado\")\n",
    "            }\n",
    "        },\n",
    "        \"tipo_documento\": metadata.get(\"TIPO_DOCUMENTO\", \"No encontrado\"),\n",
    "        \"subtitulo\": metadata.get(\"SUBTITULO\", \"No encontrado\"),\n",
    "        \"subsubtitulo\": metadata.get(\"SUBSUBTITULO\", \"No encontrado\")\n",
    "    }\n",
    "    \n",
    "    return json_output\n"
   ]
  },
  {
   "cell_type": "code",
   "execution_count": 29,
   "metadata": {},
   "outputs": [
    {
     "name": "stdout",
     "output_type": "stream",
     "text": [
      "{'titulo': 'Gaceta del Congreso', 'issn': 'No encontrado', 'fecha': 'No encontrado', 'entidad': 'No encontrado', 'numero_publicacion': 'No encontrado', 'directores': {'senado': {'nombre': 'Página 5 de www.imprenta.gov.co , de de 2016 : RAMA PÚBLICO E A D E P I C JORGE MANTILLA LA A E C O N G S N 9 DE por cual asbesto Mg respecto diferencia y a en Un ( asbesto es asbesto y química . que . un célula partes pueden estómago Ley gov.co marzo', 'cargo': 'No encontrado'}, 'camara': {'nombre': 'de 110 REPÚBLICA A 6 se la término una ,', 'cargo': 'DEL CONGRESO 110 Lunes , 28 marzo de 2016 1 C O M E N TA R I O S ( Artículo 36 , Ley 1992 ) IMPRENTA NACIONAL DE COLOMBIA SENADO Y CÁMARA AÑO XXV - N Bogotá , D. C. lunes , 28 marzo EDICIÓN DE 64 PÁGINAS DIRECTORES DE COLOMBIA LEGISLATIVA DEL PODER S N O D L A R E Ú B L A HUMBERTO SERRANO SECRETARIO GENERAL DE CÁMARA www.camara.gov.co GREGORIO ELJACH PACHECO SECRETARIO GENERAL DEL SENADO www.secretariasenado.gov.co G C E T D L R E S O I S 0 1 2 3 - 0 6 COMENTARIOS AL PROYECTO DE LEY NÚMERO 97 2015 SENADO la prohíbe producción , comercialización , exportación , importación y distribución de cualquier variedad de en Colombia . Mg RESEÑA a la entre el crisotilo los asbestos anboles El asbesto no es en si un mineral . Es un término colectivo que se da un grupo de minerales cuyos cristales ocurren forma brosa . El asbesto fue adoptado como identicación comercial . Los seis minerales comúnmente referidos como asbesto vienen de dos grupos distintivos de minerales . grupo es conocido como serpentina crisotilo o blanco ) ; mientras que el otro grupo el de los anfíboles ( amosita o asbesto café ; crocidolita o azul ; antolita ; tremolita ; actinolita ) . Mientras que ambos son minerales silicatos , los dos grupos son y mineralógicamente diferentes CRISOTILO El crisotilo es una hoja de silicato se encuentra enrollada como se ilustrada en la Figura 1 La hoja es de alrededor de 8 angstroms de espesor ( 0.8 nanómetros de espesor ) . Esta compuesta por sándwich de magnesio y silicato . En el pulmón , el medio ambiente ácido de los macrófagos destrozan la rápidamente , la cual rápidamente rompe en trozos la estructura de la hoja lo que hace que se descomponga en pequeñas ( Figura 2 ) . Estos pedazos ser rápidamente despejados del pulmón . Si la bra es tragada e ingerida entonces es atacada por el aún más potente medio ambiente ácido , ( ácido hidroclorato , pH2 ) del . Figura 1 - Crisotilo Figura 2 - Desintegración de la Fibra de Crisotilo Agosto 2009 # /-%.4!2)/3$%,!!3/#)!#)Ê.#/,/-\")!.!$%&)\"2!3n!3#/,&)\"2!3nREPUBLICA DE COLOMBIA CONGRESO E LAREPU LICA LOM CININITI GACETA DEL CONGRESO SENADO Y CAMARA ( Articulo 36 , 5a de 1992 ) IMPRENTA NACIONAL DE COLOMBIA www . imprenta . SSN 0123 906 ANO XXV-1 No 110 Bogota , D. C. , lunes , 28 de : de 2016 EDICION DE 64 PAGINAS GREGORIO ELJACH PACHECO JORGE HUMBERTO MANTILLA SERRANO DIRECTORES : SE RETARIO GENERAL DEL SEN DO ECRETARIO'}}, 'tipo_documento': 'No encontrado', 'subtitulo': 'No encontrado', 'subsubtitulo': 'GACETA GENERAL'}\n"
     ]
    }
   ],
   "source": [
    "ruta_gaceta = r\"C:\\Users\\Jorge\\OneDrive\\Documents\\proyect\\document\\20160328_XXV_110_64_removed.pdf\"\n",
    "resultado = extraer_metadata(ruta_gaceta)\n",
    "print(resultado)"
   ]
  }
 ],
 "metadata": {
  "kernelspec": {
   "display_name": "Extract",
   "language": "python",
   "name": "python3"
  },
  "language_info": {
   "codemirror_mode": {
    "name": "ipython",
    "version": 3
   },
   "file_extension": ".py",
   "mimetype": "text/x-python",
   "name": "python",
   "nbconvert_exporter": "python",
   "pygments_lexer": "ipython3",
   "version": "3.12.9"
  }
 },
 "nbformat": 4,
 "nbformat_minor": 2
}
