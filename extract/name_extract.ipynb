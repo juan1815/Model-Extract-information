{
 "cells": [
  {
   "cell_type": "code",
   "execution_count": 23,
   "metadata": {},
   "outputs": [],
   "source": [
    "import os"
   ]
  },
  {
   "cell_type": "code",
   "execution_count": 24,
   "metadata": {},
   "outputs": [
    {
     "name": "stdout",
     "output_type": "stream",
     "text": [
      "Lista de archivos .mp4 guardada en: listaArchivosgrupo.txt\n"
     ]
    }
   ],
   "source": [
    "# Carpeta de origen que contiene los archivos .mp4\n",
    "source_folder = \"c:/Users/Jorge/OneDrive/Documents/proyect/document\"\n",
    "\n",
    "# Archivo de salida donde guardaremos la lista\n",
    "output_file = 'listaArchivosgrupo.txt'\n",
    "\n",
    "# Abre el archivo de salida en modo escritura\n",
    "with open(output_file, 'w', encoding='utf-8') as f:\n",
    "    # Recorre todos los elementos de la carpeta origen\n",
    "    for filename in os.listdir(source_folder):\n",
    "        # Verifica si el nombre termina en .mp4 (ignora mayúsculas/minúsculas)\n",
    "        if filename.lower().endswith('.mp4'):\n",
    "            # Escribe el nombre del archivo en el archivo de salida\n",
    "            f.write(filename + '\\n')\n",
    "\n",
    "print(f\"Lista de archivos .mp4 guardada en: {output_file}\")"
   ]
  }
 ],
 "metadata": {
  "kernelspec": {
   "display_name": "Extract",
   "language": "python",
   "name": "python3"
  },
  "language_info": {
   "codemirror_mode": {
    "name": "ipython",
    "version": 3
   },
   "file_extension": ".py",
   "mimetype": "text/x-python",
   "name": "python",
   "nbconvert_exporter": "python",
   "pygments_lexer": "ipython3",
   "version": "3.12.9"
  }
 },
 "nbformat": 4,
 "nbformat_minor": 2
}
