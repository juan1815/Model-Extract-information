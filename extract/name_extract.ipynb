{
 "cells": [
  {
   "cell_type": "code",
   "execution_count": 23,
   "metadata": {},
   "outputs": [],
   "source": [
    "import os"
   ]
  },
  {
   "cell_type": "code",
   "execution_count": 24,
   "metadata": {},
   "outputs": [
    {
     "name": "stdout",
     "output_type": "stream",
     "text": [
      "Lista de archivos .mp4 guardada en: listaArchivosgrupo.txt\n"
     ]
    }
   ],
   "source": [
    "# Carpeta de origen que contiene los archivos .mp4\n",
    "source_folder = \"c:/Users/Jorge/OneDrive/Documents/proyect/document\"\n",
    "\n",
    "# Archivo de salida donde guardaremos la lista\n",
    "output_file = 'listaArchivosgrupo.txt'\n",
    "\n",
    "# Abre el archivo de salida en modo escritura\n",
    "with open(output_file, 'w', encoding='utf-8') as f:\n",
    "    # Recorre todos los elementos de la carpeta origen\n",
    "    for filename in os.listdir(source_folder):\n",
    "        # Verifica si el nombre termina en .mp4 (ignora mayúsculas/minúsculas)\n",
    "        if filename.lower().endswith('.mp4'):\n",
    "            # Escribe el nombre del archivo en el archivo de salida\n",
    "            f.write(filename + '\\n')\n",
    "\n",
    "print(f\"Lista de archivos .mp4 guardada en: {output_file}\")"
   ]
  },
  {
   "cell_type": "code",
   "execution_count": null,
   "metadata": {},
   "outputs": [],
   "source": [
    "import os\n",
    "import re\n",
    "\n",
    "# Carpeta de origen\n",
    "folder_path = '/ruta/a/tu/carpeta'\n",
    "\n",
    "# Iterar sobre los archivos de la carpeta\n",
    "for filename in os.listdir(folder_path):\n",
    "    # Verificamos si el archivo es MP4\n",
    "    if filename.lower().endswith('.mp4'):\n",
    "        # Quitamos la parte que está dentro de corchetes, incluido el propio corchete\n",
    "        # Ej: \"... [abc].mp4\" -> \"... .mp4\"\n",
    "        temp_name = re.sub(r'\\[.*?\\]', '', filename)\n",
    "\n",
    "        # Opcional: eliminar el símbolo # o cualquier otro carácter que no deseemos\n",
    "        # Mantendremos letras, números, espacios, guion bajo y guion medio.\n",
    "        # Eliminamos tildes y caracteres no deseados.\n",
    "        temp_name = re.sub(r'[^A-Za-z0-9 _-]+', '', temp_name)\n",
    "\n",
    "        # Eliminamos espacios en blanco adicionales al comienzo y al final\n",
    "        temp_name = temp_name.strip()\n",
    "\n",
    "        # Reemplazar uno o más espacios por guiones bajos\n",
    "        temp_name = re.sub(r'\\s+', '_', temp_name)\n",
    "\n",
    "        # Agregar extensión .mp4 si no existe (por seguridad)\n",
    "        if not temp_name.lower().endswith('.mp4'):\n",
    "            temp_name += '.mp4'\n",
    "\n",
    "        # Obtenemos rutas completas (origen y destino)\n",
    "        old_file_path = os.path.join(folder_path, filename)\n",
    "        new_file_path = os.path.join(folder_path, temp_name)\n",
    "\n",
    "        # Renombramos el archivo\n",
    "        os.rename(old_file_path, new_file_path)\n",
    "\n",
    "        print(f'Renombrado: {filename} -> {temp_name}')\n"
   ]
  }
 ],
 "metadata": {
  "kernelspec": {
   "display_name": "Extract",
   "language": "python",
   "name": "python3"
  },
  "language_info": {
   "codemirror_mode": {
    "name": "ipython",
    "version": 3
   },
   "file_extension": ".py",
   "mimetype": "text/x-python",
   "name": "python",
   "nbconvert_exporter": "python",
   "pygments_lexer": "ipython3",
   "version": "3.12.9"
  }
 },
 "nbformat": 4,
 "nbformat_minor": 2
}
