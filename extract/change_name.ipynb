{
 "cells": [
  {
   "cell_type": "markdown",
   "metadata": {},
   "source": [
    "- Elimina todo lo que esté dentro de corchetes [ ].\n",
    "- Elimina caracteres especiales que no queremos (por ejemplo #, comas, tildes, etc.) dejando solo letras, números, guion bajo y espacios.\n",
    "- Reemplaza espacios múltiples por guiones bajos.\n",
    "- Asigna el nuevo nombre al archivo."
   ]
  },
  {
   "cell_type": "code",
   "execution_count": null,
   "metadata": {},
   "outputs": [],
   "source": [
    "import os\n",
    "import re"
   ]
  },
  {
   "cell_type": "code",
   "execution_count": null,
   "metadata": {},
   "outputs": [],
   "source": [
    "#Carpet origin \n",
    "folder_path  = ''\n",
    "\n",
    "# iterar sobre los archivos de la carpeta\n",
    "for filename in os.listdir(folder_path):\n",
    "    if filename.lower().endswith(\".mp4\"):\n",
    "        temp_name = re.sub(r'[.*?]', '', filename)\n",
    "        temp_name = re.sub(r'[^A_Za-z0-9 _-]+', '', temp_name)\n",
    "        temp_name = temp_name.strip() #Delete space\n",
    "        temp_name = re.sub(r'\\s+', )"
   ]
  }
 ],
 "metadata": {
  "language_info": {
   "name": "python"
  }
 },
 "nbformat": 4,
 "nbformat_minor": 2
}
