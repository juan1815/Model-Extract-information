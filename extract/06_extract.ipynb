{
 "cells": [
  {
   "cell_type": "markdown",
   "metadata": {},
   "source": [
    "instala con CPU en vez de GPU y lo instalamos sin CUDA\n",
    "pip install torch torchvision torchaudio\n"
   ]
  },
  {
   "cell_type": "markdown",
   "metadata": {},
   "source": [
    "## libraries 📚"
   ]
  },
  {
   "cell_type": "code",
   "execution_count": 186,
   "metadata": {},
   "outputs": [],
   "source": [
    "import fitz  \n",
    "import re\n",
    "import spacy\n",
    "import json\n",
    "from transformers import LayoutLMTokenizer, LayoutLMForTokenClassification\n",
    "import torch"
   ]
  },
  {
   "cell_type": "code",
   "execution_count": 187,
   "metadata": {},
   "outputs": [
    {
     "name": "stdout",
     "output_type": "stream",
     "text": [
      "2.6.0+cpu\n",
      "False\n"
     ]
    }
   ],
   "source": [
    "print(torch.__version__)\n",
    "print(torch.cuda.is_available())"
   ]
  },
  {
   "cell_type": "markdown",
   "metadata": {},
   "source": [
    "# -------------------------Functions--------------------------------------"
   ]
  },
  {
   "cell_type": "markdown",
   "metadata": {},
   "source": [
    "## model 🤖"
   ]
  },
  {
   "cell_type": "code",
   "execution_count": 188,
   "metadata": {},
   "outputs": [
    {
     "name": "stderr",
     "output_type": "stream",
     "text": [
      "Some weights of LayoutLMForTokenClassification were not initialized from the model checkpoint at microsoft/layoutlm-base-uncased and are newly initialized: ['classifier.bias', 'classifier.weight']\n",
      "You should probably TRAIN this model on a down-stream task to be able to use it for predictions and inference.\n"
     ]
    }
   ],
   "source": [
    "# Cargar modelo de spaCy\n",
    "nlp = spacy.load(\"es_core_news_sm\")\n",
    "\n",
    "# Cargar modelo de LayoutLM\n",
    "tokenizer = LayoutLMTokenizer.from_pretrained(\"microsoft/layoutlm-base-uncased\")\n",
    "model = LayoutLMForTokenClassification.from_pretrained(\"microsoft/layoutlm-base-uncased\")"
   ]
  },
  {
   "cell_type": "markdown",
   "metadata": {},
   "source": [
    "### Function with regex 📌"
   ]
  },
  {
   "cell_type": "code",
   "execution_count": 189,
   "metadata": {},
   "outputs": [],
   "source": [
    "def extract_with_regex(pattern, text):\n",
    "    \"\"\"Extrae información usando una expresión regular.\"\"\"\n",
    "    match = re.search(pattern, text, re.DOTALL)\n",
    "    return match.group(1) if match else \"No encontrado\""
   ]
  },
  {
   "cell_type": "markdown",
   "metadata": {},
   "source": [
    "### Function to extract text of pdf 📌"
   ]
  },
  {
   "cell_type": "code",
   "execution_count": 190,
   "metadata": {},
   "outputs": [],
   "source": [
    "\n",
    "def extract_text_from_pdf(pdf_path):\n",
    "    doc = fitz.open(pdf_path)\n",
    "    text = \"\\n\".join([page.get_text(\"text\") for page in doc])\n",
    "    return text"
   ]
  },
  {
   "cell_type": "markdown",
   "metadata": {},
   "source": [
    "### Funtion clean text 📌"
   ]
  },
  {
   "cell_type": "code",
   "execution_count": 191,
   "metadata": {},
   "outputs": [],
   "source": [
    "def limpiar_texto(texto):\n",
    "    \"\"\"Normaliza y limpia el texto para mejorar la extracción de metadatos.\"\"\"\n",
    "    texto = re.sub(r'\\s+', ' ', texto)  # Remueve espacios extra\n",
    "    texto = re.sub(r'[^\\x20-\\x7E\\xC0-\\xFF]', '', texto)  # Remueve caracteres especiales\n",
    "    return texto.strip()"
   ]
  },
  {
   "cell_type": "markdown",
   "metadata": {},
   "source": [
    "### Function read a pdf 📌"
   ]
  },
  {
   "cell_type": "code",
   "execution_count": 192,
   "metadata": {},
   "outputs": [],
   "source": [
    "def leer_pdf(ruta_pdf):\n",
    "    \"\"\"Lee un archivo PDF y devuelve su contenido en texto limpio.\"\"\"\n",
    "    documento = fitz.open(ruta_pdf)\n",
    "    texto = \"\"\n",
    "    for pagina in documento:\n",
    "        texto += pagina.get_text(\"text\") + \"\\n\"\n",
    "    return limpiar_texto(texto)"
   ]
  },
  {
   "cell_type": "markdown",
   "metadata": {},
   "source": [
    "### Function from number to whole number 📌"
   ]
  },
  {
   "cell_type": "code",
   "execution_count": 193,
   "metadata": {},
   "outputs": [],
   "source": [
    "def whole_number(romano):\n",
    "    valores = {'M': 1000, 'CM': 900, 'D': 500, 'CD': 400, 'C': 100, 'XC': 90,\n",
    "            'L': 50, 'XL': 40, 'X': 10, 'IX': 9, 'V': 5, 'IV': 4, 'I': 1}\n",
    "    entero = 0\n",
    "    i = 0\n",
    "    while i < len(romano):\n",
    "        if i + 1 < len(romano) and romano[i:i+2] in valores:\n",
    "            entero += valores[romano[i:i+2]]\n",
    "            i += 2\n",
    "        else:\n",
    "            entero += valores[romano[i]]\n",
    "            i += 1\n",
    "    return entero"
   ]
  },
  {
   "cell_type": "markdown",
   "metadata": {},
   "source": [
    "# ---------------------------------------------------------------"
   ]
  },
  {
   "cell_type": "markdown",
   "metadata": {},
   "source": [
    "### Function extract_metadata"
   ]
  },
  {
   "cell_type": "code",
   "execution_count": null,
   "metadata": {},
   "outputs": [],
   "source": [
    "\n",
    "def extract_metadata(text):\n",
    "    metadata = {}\n",
    "\n",
    "    metadata[\"titulo\"] = \"Gaceta del Congreso\"\n",
    "\n",
    "    # Entidades participantes\n",
    "    entidades_match = re.search(r\"(SENADO Y CÁMARA|SENADO|CÁMARA)\", text, re.IGNORECASE)\n",
    "    metadata[\"entidades\"] = entidades_match.group(0) if entidades_match else \"Desconocido\"\n",
    "\n",
    "    # ISSN\n",
    "    # issn_match = re.search(r\"ISSN\\s?(\\d{4}-\\d{4})\", text)\n",
    "    # metadata[\"issn\"] = issn_match.group(1) if issn_match else \"No encontrado\"\n",
    "    metadata[\"issn\"] = extract_with_regex(r\"I\\s*S\\s*S\\s*N\\s*(0\\s*1\\s*2\\s*3\\s*-\\s*9\\s*0\\s*6\\s*6)\", text).replace(\" \",\"\")\n",
    "    \n",
    "    # Año y número de publicación\n",
    "    patron_anio_numero = r\"AÑO\\s+([MDCLXVI]+)\\s*-\\s*N[°º]\\s*(\\d+)\"\n",
    "    coincidencia_anio_numero = re.search(patron_anio_numero, text, re.IGNORECASE)\n",
    "    if coincidencia_anio_numero:\n",
    "        anio_romano = coincidencia_anio_numero.group(1).strip()\n",
    "        numero_publicacion = coincidencia_anio_numero.group(2).strip()\n",
    "\n",
    "        metadata[\"anio_romano\"] = anio_romano\n",
    "        metadata[\"anio\"] = whole_number(anio_romano)  #change value\n",
    "        metadata[\"numero_publicacion\"] = int(numero_publicacion)\n",
    "    else:\n",
    "        metadata[\"anio_romano\"] = \"No encontrado\"\n",
    "        metadata[\"anio\"] = \"No encontrado\"\n",
    "        metadata[\"numero_publicacion\"] = \"No encontrado\"\n",
    "\n",
    "    # Fecha\n",
    "    #fecha_match = re.search(r\"(\\w+,\\s\\d+\\sde\\s\\w+\\sde\\s\\d{4})\", text)\n",
    "    #metadata[\"fecha\"] = fecha_match.group(0) if fecha_match else \"No encontrada\"\n",
    "    fecha_match = re.search(r\"(?i)(lunes|martes|miércoles|jueves|viernes|sábado|domingo),\\s*(\\d{1,2})\\s+de\\s+(enero|febrero|marzo|abril|mayo|junio|julio|agosto|septiembre|octubre|noviembre|diciembre)\\s+de\\s+(\\d{4})\", text)\n",
    "\n",
    "    if fecha_match:\n",
    "        meses = {\n",
    "            \"enero\": \"01\", \"febrero\": \"02\", \"marzo\": \"03\", \"abril\": \"04\", \"mayo\": \"05\", \"junio\": \"06\",\n",
    "            \"julio\": \"07\", \"agosto\": \"08\", \"septiembre\": \"09\", \"octubre\": \"10\", \"noviembre\": \"11\", \"diciembre\": \"12\"\n",
    "        }\n",
    "        dia = int(fecha_match.group(2))\n",
    "        mes = meses[fecha_match.group(3).lower()]\n",
    "        anio = int(fecha_match.group(4))\n",
    "        metadata[\"fecha\"] = f\"{dia:02d}/{mes}/{anio}\"\n",
    "    else:\n",
    "        metadata[\"fecha\"] = \"No encontrada\"\n",
    "    \n",
    "    # Rama legislativa\n",
    "    metadata[\"rama_legislativa\"] = \"RAMA LEGISLATIVA DEL PODER PÚBLICO\"\n",
    "\n",
    "    # Buscar la sección de directores -----------------------------\n",
    "    #📌 Extraer solo el nombre del director antes del título\n",
    "    senado_match = re.search(r\"\\n([A-ZÁÉÍÓÚÑ]+\\s+[A-ZÁÉÍÓÚÑ]+\\s+[A-ZÁÉÍÓÚÑ]+)\\nSECRETARIO\\s+GENERAL\\s+DEL\\s+SENADO\", text)\n",
    "    camara_match = re.search(r\"\\n([A-ZÁÉÍÓÚÑ]+\\s+[A-ZÁÉÍÓÚÑ]+\\s+[A-ZÁÉÍÓÚÑ]+)\\nSECRETARIO\\s+GENERAL\\s+DE\\s+LA\\s+CÁMARA\", text)\n",
    "\n",
    "    # Función para limpiar nombres (remueve espacios extra y caracteres erróneos)\n",
    "    def clean_name(name):\n",
    "        if name:\n",
    "            name = name.strip()  # Eliminar espacios en los extremos\n",
    "            name = re.sub(r'\\s+', ' ', name)  # Reemplazar múltiples espacios por uno solo\n",
    "            return name\n",
    "        return \"No encontrado\"\n",
    "\n",
    "    metadata[\"directores\"] = {\n",
    "        \"director_senado\": clean_name(senado_match.group(1)) if senado_match else \"No encontrado\",\n",
    "        \"director_camara\": clean_name(camara_match.group(1)) if camara_match else \"No encontrado\"\n",
    "    }\n",
    "    \n",
    "    # Extracción del título (Ejemplo: \"CAMARA DE REPRESENTANTES\", \"PROYECTOS DE LEY\", \"SENADO DE LA REPÚBLICA\")\n",
    "    match_title = re.search(r\"(?i)^(CAMARA DE REPRESENTANTES|PROYECTOS DE LEY|SENADO DE LA REPÚBLICA)\", text, re.MULTILINE)\n",
    "\n",
    "    metadata[\"titulo\"] = match_title.group(1) if match_title else \"No encontrado\"\n",
    "\n",
    "\n",
    "    # Tipo de documento\n",
    "    tipo_doc_match = re.search(r\"(PONENCIAS|ACTAS|INFORMES|PROYECTOS DE LEY)\", text)\n",
    "    metadata[\"tipo_documento\"] = tipo_doc_match.group(0) if tipo_doc_match else \"No identificado\"\n",
    "\n",
    "    # Subtítulo\n",
    "    subtitulo_match = re.search(r\"([A-Z\\s]+)\\n+\\\"(.+?)\\\"\", text)\n",
    "    metadata[\"subtitulo\"] = subtitulo_match.group(1).strip() if subtitulo_match else \"No identificado\"\n",
    "    metadata[\"subsubtitulo\"] = subtitulo_match.group(2).strip() if subtitulo_match else \"No identificado\"\n",
    "\n",
    "    return metadata"
   ]
  },
  {
   "cell_type": "markdown",
   "metadata": {},
   "source": [
    "### Principall function to extract metadata of PDF"
   ]
  },
  {
   "cell_type": "code",
   "execution_count": 195,
   "metadata": {},
   "outputs": [],
   "source": [
    "def extract_metadata_from_pdf(pdf_path):\n",
    "    text = extract_text_from_pdf(pdf_path)\n",
    "    metadata = extract_metadata(text)\n",
    "\n",
    "    # Convertir a JSON\n",
    "    metadata_json = json.dumps(metadata, indent=4, ensure_ascii=False)\n",
    "    return metadata_json"
   ]
  },
  {
   "cell_type": "markdown",
   "metadata": {},
   "source": [
    "# -------------------"
   ]
  },
  {
   "cell_type": "code",
   "execution_count": 196,
   "metadata": {},
   "outputs": [
    {
     "name": "stdout",
     "output_type": "stream",
     "text": [
      "{\n",
      "    \"titulo\": \"Gaceta del Congreso\",\n",
      "    \"entidades\": \"SENADO Y CÁMARA\",\n",
      "    \"issn\": \"0123-9066\",\n",
      "    \"anio_romano\": \"XXV\",\n",
      "    \"anio\": 25,\n",
      "    \"numero_publicacion\": 110,\n",
      "    \"fecha\": \"28/03/2016\",\n",
      "    \"rama_legislativa\": \"RAMA LEGISLATIVA DEL PODER PÚBLICO\",\n",
      "    \"directores\": {\n",
      "        \"director_senado\": \"GREGORIO ELJACH PACHECO\",\n",
      "        \"director_camara\": \"No encontrado\"\n",
      "    },\n",
      "    \"tipo_documento\": \"No identificado\",\n",
      "    \"subtitulo\": \"No identificado\",\n",
      "    \"subsubtitulo\": \"No identificado\"\n",
      "}\n"
     ]
    }
   ],
   "source": [
    "pdf_path = r\"C:\\Users\\Jorge\\OneDrive\\Documents\\proyect\\document\\20160328_XXV_110_64_removed.pdf\"\n",
    "metadata_json = extract_metadata_from_pdf(pdf_path)\n",
    "print(metadata_json)"
   ]
  },
  {
   "cell_type": "markdown",
   "metadata": {},
   "source": [
    "## saber el OCR"
   ]
  },
  {
   "cell_type": "code",
   "execution_count": 197,
   "metadata": {},
   "outputs": [
    {
     "name": "stdout",
     "output_type": "stream",
     "text": [
      "GACETA DEL CONGRESO  110  \n",
      "Lunes, 28 de marzo de 2016 \n",
      "Página 1\n",
      "C O M E N TA R I O S\n",
      "(Artículo 36,  Ley 5ª de 1992)\n",
      "IMPRENTA   NACIONAL   DE   COLOMBIA\n",
      "www.imprenta.gov.co\n",
      "SENADO Y CÁMARA\n",
      "AÑO XXV - Nº 110 \n",
      "    Bogotá, D. C., lunes, 28 de marzo de 2016 \n",
      " EDICIÓN  DE  64  PÁGINAS\n",
      "DIRECTORES: \n",
      "REPÚBLICA   DE   COLOMBIA\n",
      "RAMA  LEGISLATIVA  DEL  PODER  PÚBLICO\n",
      "S E N A D O   D E   L A   R E P Ú B L I C A\n",
      "JORGE HUMBERTO MANTILLA SERRANO\n",
      "SECRETARIO  GENERAL  DE  LA  CÁMARA\n",
      "www.camara.gov.co \n",
      "GREGORIO ELJACH PACHECO\n",
      "SECRETARIO  GENERAL  DEL  SENADO\n",
      "www.secretariasenado.gov.co \n",
      "G A C E T A   D E L   C O N G R E S O\n",
      "I S S N  0 1 2 3  -  9 0 6 6\n",
      "COMENTARIOS AL PROYECTO DE LEY NÚMERO 97 DE 2015 SENADO\n",
      "“por la cual se prohíbe la producción, comercialización, exportación, importación  \n",
      "y distribución de cualquier variedad de asbesto en Colombia”. \n",
      "Mg\n",
      "Mg\n",
      "RESEÑA\n",
      "respecto a la diferencia entre el crisotilo  \n",
      "y los asbestos anﬁboles\n",
      "“El asbesto” no es en si un mineral. Es un término colectivo que se da a un grupo de minerales cuyos \n",
      "cristales ocurren en forma ﬁbrosa. El término “asbesto” fue adoptado como una identiﬁcación comercial.\n",
      "Los seis minerales comúnmente referidos como asbesto vienen de dos grupos distintivos de minerales.  \n",
      "Un grupo es conocido como serpentina (crisotilo o asbesto blanco); mientras que el otro grupo es el \n",
      "de los anfíboles (amosita o asbesto café; crocidolita o asbesto azul; antoﬁlita; tremolita; y actinolita). \n",
      "Mientras que ambos son minerales   silicatos, los dos grupos son química y mineralógicamente diferentes.\n",
      "CRISOTILO\n",
      "El crisotilo es una hoja de silicato que se encuentra enrollada como \n",
      "se ilustrada en la Figura 1. La hoja es de alrededor de 8 angstroms \n",
      "de espesor (0.8 nanómetros de espesor). Esta compuesta por un \n",
      "sándwich de magnesio y silicato. En el pulmón, el medio ambiente \n",
      "ácido de los macrófagos destrozan la célula rápidamente, la cual \n",
      "rápidamente rompe en trozos la estructura de la hoja lo que hace \n",
      "que se descomponga en pequeñas partes (Figura 2). Estos pedazos \n",
      "pueden ser rápidamente despejados del pulmón. Si la ﬁbra es \n",
      "tragada e ingerida, entonces es atacada por el aún más potente \n",
      "medio ambiente ácido, (ácido hidroclorato, pH2) del estómago.\n",
      "Figura 1 - Crisotilo\n",
      "Figura 2 - Desintegración de la Fibra de Crisotilo\n",
      "Agosto 2009\n",
      "#/-%.4!2)/3\u0000$%\u0000,!\u0000!3/#)!#)Ê.\u0000#/,/-\")!.!\u0000$%\u0000&)\"2!3\u0000n!3#/,&)\"2!3n\u0000REPUBLICA \n",
      "DE \n",
      "COLOMBIA \n",
      "CONGRESO \n",
      "E LAREPU \n",
      "LICA \n",
      "LOM \n",
      "CININITI \n",
      "GACETA \n",
      "DEL \n",
      "CONGRESO \n",
      "SENADO \n",
      "Y CAMARA \n",
      "(Articulo 36, Ley 5a de 1992) \n",
      "IMPRENTA \n",
      "NACIONAL \n",
      "DE COLOMBIA \n",
      "www. \n",
      "imprenta. \n",
      "gov.co \n",
      "SSN 0123 \n",
      "906 \n",
      "ANO XXV-1 \n",
      "No 110 \n",
      "Bogota, \n",
      "D. C., lunes, 28 de: marzo \n",
      "de 2016 \n",
      "EDICION DE 64 PAGINAS \n",
      "GREGORIO \n",
      "ELJACH \n",
      "PACHECO \n",
      "JORGE \n",
      "HUMBERTO \n",
      "MANTILLA \n",
      "SERRANO \n",
      "DIRECTORES: \n",
      "SE RETARIO \n",
      "GENERAL \n",
      "DEL SEN \n",
      "DO \n",
      "ECRETARIO \n",
      "GENERAL \n",
      "DE LA CAMARA \n",
      "W secretariasenado. \n",
      "gov.co \n",
      "WWW \n",
      "camara. \n",
      "gov. \n",
      "co \n",
      "RAMA LEGISLATIVA DEL PODER PUBLICO \n",
      "SENADO \n",
      "DE \n",
      "L A \n",
      "REP \n",
      "UBLICA \n",
      "COMENTARIOS \n",
      "COMENTARIOS AL PROYECTO DE LEY NUMERO 97 DE 2015 SENADO \n",
      "\"por la cual se prohibe la produccion, \n",
      "comercializacion, \n",
      "exportacion, \n",
      "importacion \n",
      "y distribucion de cualquier variedad de asbesto \n",
      "en Colombia - \n",
      "COMENTARIOS DE LA ASOCIACION COLOMBIANA \n",
      "DE FIBRAS -ASCOLFIBRAS \n",
      "RESENA \n",
      "respecto \n",
      "a la diferencia \n",
      "entre \n",
      "el crisotilo \n",
      "y los asbestos \n",
      "anfiboles \n",
      "CRISOTILO \n",
      "Agosto \n",
      "2009 \n",
      "\"El asbesto' \n",
      "no es en si un mineral. \n",
      "Es un término \n",
      "colectivo \n",
      "que: \n",
      "se da a an grupo. \n",
      "de minerales \n",
      "cuyos \n",
      "cristales \n",
      "ocurren \n",
      "en forma \n",
      "fibrosa. \n",
      "El término \n",
      "asbesto\" \n",
      "fue adoptado \n",
      "como \n",
      "una identificacion \n",
      "comercial. \n",
      "Los \n",
      "seis \n",
      "minerales \n",
      "comunmente \n",
      "referidos \n",
      "como \n",
      "asbesto \n",
      "vienen \n",
      "de dos grupos \n",
      "distintivos \n",
      "de minerales. \n",
      "Un grupo \n",
      "es conocido \n",
      "como \n",
      "serpentina \n",
      "(crisotilo \n",
      "O asbesto \n",
      "blanco); \n",
      "mientras \n",
      "que el otro grupo \n",
      "es el \n",
      "del los anfiboles \n",
      "(amosita \n",
      "asbesto \n",
      "café; \n",
      "crocidolita \n",
      "asbesto \n",
      "azul; \n",
      "antofilita; \n",
      "tremolita; \n",
      "actinolita). \n",
      "Mientr \n",
      "as que mb \n",
      "DO \n",
      "son \n",
      "ales atos, \n",
      "los dos \n",
      "grupos \n",
      "son quimica \n",
      "mineralogicamente \n",
      "diferentes. \n",
      "CRISOTILO \n",
      "El crisotilo \n",
      "est \n",
      "unal \n",
      "hoja \n",
      "des \n",
      "silicato \n",
      "que \n",
      "se encuentra \n",
      "enrollada \n",
      "como \n",
      "se ilustrada \n",
      "en la Figura \n",
      "1.Lal \n",
      "hoja \n",
      "es de alrededor \n",
      "de angstroms \n",
      "dee \n",
      "espesor \n",
      "(0.8 \n",
      "nanometros \n",
      "de espesor). \n",
      "Esta \n",
      "om esta \n",
      "por un \n",
      "sandwich \n",
      "de magnesio \n",
      "silicato. \n",
      "En el pulmon, \n",
      "el nedio \n",
      "ambiente \n",
      "acido \n",
      "de los macrofagos \n",
      "destrozan \n",
      "la célula \n",
      "rapidamente, \n",
      "la cual \n",
      "rapidan \n",
      "mente \n",
      "rompe \n",
      "en trozos \n",
      "la estructura \n",
      "del \n",
      "la hojal \n",
      "loc \n",
      "quel \n",
      "hace \n",
      "que: \n",
      "se descompongae \n",
      "en pequenas \n",
      "partes \n",
      "(Figura \n",
      "2). Estos \n",
      "pedazos \n",
      "pueden \n",
      "ser \n",
      "rapidamente \n",
      "despejados \n",
      "del pulmon. \n",
      "Si \n",
      "laf fibra \n",
      "es \n",
      "tragada \n",
      "e ingerida, \n",
      "entonces \n",
      "es atacada \n",
      "por ela \n",
      "aun \n",
      "mas \n",
      "potente \n",
      "medio \n",
      "ambiente \n",
      "acido, \n",
      "(acido \n",
      "hidro \n",
      "oclor \n",
      "rato, \n",
      "pH2) \n",
      "del estomago. \n",
      "Mg \n",
      "Mg \n",
      "SC D \n",
      "199 \n",
      "Figura \n",
      "Desintegracion \n",
      "\n"
     ]
    }
   ],
   "source": [
    "text = extract_text_from_pdf(pdf_path)\n",
    "print(text) "
   ]
  },
  {
   "cell_type": "markdown",
   "metadata": {},
   "source": [
    "## saber si reconoce un grupo con expression regular"
   ]
  },
  {
   "cell_type": "code",
   "execution_count": 198,
   "metadata": {},
   "outputs": [
    {
     "name": "stdout",
     "output_type": "stream",
     "text": [
      " \n"
     ]
    }
   ],
   "source": [
    "# Imprimir la sección de directores para ver su estructura real\n",
    "directores_match = re.search(r\"DIRECTORES?:(.*?)\\n(?:SECREATRIO\\s+GENERAL\\s+DE\\s+LA\\+NACION|www|SECRETARIO\\s+GENERAL\\s+DE\\s+LA\\s+CÁMARA|)\", text, re.DOTALL)\n",
    "\n",
    "print(directores_match.group(1) if directores_match else \"No se encontró la sección de directores\")\n"
   ]
  }
 ],
 "metadata": {
  "kernelspec": {
   "display_name": "Extract",
   "language": "python",
   "name": "python3"
  },
  "language_info": {
   "codemirror_mode": {
    "name": "ipython",
    "version": 3
   },
   "file_extension": ".py",
   "mimetype": "text/x-python",
   "name": "python",
   "nbconvert_exporter": "python",
   "pygments_lexer": "ipython3",
   "version": "3.12.9"
  }
 },
 "nbformat": 4,
 "nbformat_minor": 2
}
