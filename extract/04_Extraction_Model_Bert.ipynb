{
 "cells": [
  {
   "cell_type": "code",
   "execution_count": 66,
   "metadata": {},
   "outputs": [],
   "source": [
    "from transformers import BertTokenizer, BertForTokenClassification, AdamW\n",
    "from transformers import BertTokenizerFast\n",
    "import torch\n",
    "import os\n",
    "import re\n",
    "from tqdm import tqdm\n",
    "#from seqeval.metrics import classification_report\n",
    "from torch.utils.data import DataLoader, TensorDataset"
   ]
  },
  {
   "cell_type": "code",
   "execution_count": 67,
   "metadata": {},
   "outputs": [],
   "source": [
    "# Extract sentences from the dataset\n",
    "oraciones_entrenamiento = [[token for token, tag in oracion] for oracion in dataset_entrenamiento]\n"
   ]
  },
  {
   "cell_type": "code",
   "execution_count": 68,
   "metadata": {},
   "outputs": [],
   "source": [
    "def preprocesar_texto(texto):\n",
    "    texto_limpio = re.sub(r\"\\s+\", \" \", texto).strip()  # Elimina espacios extra\n",
    "    texto_limpio = texto_limpio.replace('\\n', ' ') #elimina saltos de linea\n",
    "    return texto_limpio"
   ]
  },
  {
   "cell_type": "code",
   "execution_count": 69,
   "metadata": {},
   "outputs": [
    {
     "name": "stderr",
     "output_type": "stream",
     "text": [
      "Some weights of BertForTokenClassification were not initialized from the model checkpoint at dccuchile/bert-base-spanish-wwm-cased and are newly initialized: ['classifier.bias', 'classifier.weight']\n",
      "You should probably TRAIN this model on a down-stream task to be able to use it for predictions and inference.\n"
     ]
    }
   ],
   "source": [
    "\n",
    "# Initialize the tokenizer\n",
    "tokenizer = BertTokenizerFast.from_pretrained('bert-base-uncased')\n",
    "\n",
    "def tokenizar_y_codificar(oraciones, tokenizer, etiquetas):\n",
    "\n",
    "    tokens_codificados = tokenizer(oraciones, is_split_into_words=True, \n",
    "                                    return_tensors=\"pt\", padding=True, truncation=True)\n",
    "    etiquetas_codificadas = []\n",
    "    for i, oracion in enumerate(oraciones):\n",
    "        etiquetas_oracion = []\n",
    "        for j in range(len(oracion)):\n",
    "            _, etiqueta = oracion[j]\n",
    "            etiquetas_oracion.append(etiquetas[etiqueta])\n",
    "\n",
    "        # Añadir etiquetas para [CLS] y [SEP]\n",
    "        etiquetas_oracion.insert(0, etiquetas[\"O\"])  # [CLS]\n",
    "        etiquetas_oracion.append(etiquetas[\"O\"])  # [SEP]\n",
    "\n",
    "\n",
    "        etiquetas_codificadas.append(torch.tensor(etiquetas_oracion))\n",
    "\n",
    "    return tokens_codificados, etiquetas_codificadas\n",
    "\n",
    "\n",
    "# Etiquetas\n",
    "etiquetas = {\"O\": 0, \"FECHA\": 1, \"DIRECTOR\": 2, \"NUM_PAGINAS\": 3}\n",
    "num_etiquetas = len(etiquetas)\n",
    "\n",
    "# Modelo\n",
    "model = BertForTokenClassification.from_pretrained(\"dccuchile/bert-base-spanish-wwm-cased\", num_labels=num_etiquetas)\n",
    "tokenizer = BertTokenizer.from_pretrained(\"dccuchile/bert-base-spanish-wwm-cased\")\n",
    "\n",
    "\n",
    "# Dataset de entrenamiento (ejemplo) - ¡DEBES REEMPLAZAR ESTO CON TUS DATOS!\n",
    "dataset_entrenamiento = [\n",
    "    [(\"Bogotá,\", \"O\"), (\"D.\",\"O\"), (\"C.,\", \"O\"), (\"jueves,\", \"O\"), (\"9\", \"FECHA\"), (\"de\", \"FECHA\"), (\"febrero\", \"FECHA\"), (\"de\", \"FECHA\"), (\"2023\", \"FECHA\")],\n",
    "    [(\"DIRECTORES:\", \"O\"), (\"GREGORIO\", \"DIRECTOR\"), (\"ELJACH\", \"DIRECTOR\"), (\"PACHECO\", \"DIRECTOR\")],\n",
    "    [(\"EDICIÓN\", \"O\"), (\"DE\", \"O\"), (\"22\", \"NUM_PAGINAS\"), (\"PÁGINAS\", \"O\")]\n",
    "]"
   ]
  },
  {
   "cell_type": "code",
   "execution_count": 72,
   "metadata": {},
   "outputs": [
    {
     "ename": "KeyError",
     "evalue": "'FECHA'",
     "output_type": "error",
     "traceback": [
      "\u001b[1;31m---------------------------------------------------------------------------\u001b[0m",
      "\u001b[1;31mKeyError\u001b[0m                                  Traceback (most recent call last)",
      "Cell \u001b[1;32mIn[72], line 58\u001b[0m\n\u001b[0;32m     55\u001b[0m tokenizer \u001b[38;5;241m=\u001b[39m BertTokenizerFast\u001b[38;5;241m.\u001b[39mfrom_pretrained(\u001b[38;5;124m'\u001b[39m\u001b[38;5;124mbert-base-uncased\u001b[39m\u001b[38;5;124m'\u001b[39m)\n\u001b[0;32m     57\u001b[0m \u001b[38;5;66;03m# Tokenize and codify the data\u001b[39;00m\n\u001b[1;32m---> 58\u001b[0m tokens_codified, tags_codified \u001b[38;5;241m=\u001b[39m \u001b[43mtokenizar_codify\u001b[49m\u001b[43m(\u001b[49m\u001b[43moraciones_entrenamiento\u001b[49m\u001b[43m,\u001b[49m\u001b[43m \u001b[49m\u001b[43mdataset_entrenamiento\u001b[49m\u001b[43m,\u001b[49m\u001b[43m \u001b[49m\u001b[43mtokenizer\u001b[49m\u001b[43m,\u001b[49m\u001b[43m \u001b[49m\u001b[43metiquetas\u001b[49m\u001b[43m)\u001b[49m\n\u001b[0;32m     60\u001b[0m \u001b[38;5;66;03m# Debug prints to check lengths\u001b[39;00m\n\u001b[0;32m     61\u001b[0m \u001b[38;5;28mprint\u001b[39m(\u001b[38;5;124mf\u001b[39m\u001b[38;5;124m\"\u001b[39m\u001b[38;5;124mLength of input_ids: \u001b[39m\u001b[38;5;132;01m{\u001b[39;00m\u001b[38;5;28mlen\u001b[39m(tokens_codified[\u001b[38;5;124m'\u001b[39m\u001b[38;5;124minput_ids\u001b[39m\u001b[38;5;124m'\u001b[39m][\u001b[38;5;241m0\u001b[39m])\u001b[38;5;132;01m}\u001b[39;00m\u001b[38;5;124m\"\u001b[39m)\n",
      "Cell \u001b[1;32mIn[72], line 16\u001b[0m, in \u001b[0;36mtokenizar_codify\u001b[1;34m(oraciones, dataset_entrenamiento, tokenizer, tags)\u001b[0m\n\u001b[0;32m     14\u001b[0m tags_codified_list \u001b[38;5;241m=\u001b[39m []\n\u001b[0;32m     15\u001b[0m \u001b[38;5;28;01mfor\u001b[39;00m oracion \u001b[38;5;129;01min\u001b[39;00m dataset_entrenamiento:\n\u001b[1;32m---> 16\u001b[0m     tags_list \u001b[38;5;241m=\u001b[39m [\u001b[43mtags\u001b[49m\u001b[43m[\u001b[49m\u001b[43mtag\u001b[49m\u001b[43m]\u001b[49m \u001b[38;5;28;01mfor\u001b[39;00m token, tag \u001b[38;5;129;01min\u001b[39;00m oracion]\n\u001b[0;32m     17\u001b[0m     word_ids \u001b[38;5;241m=\u001b[39m tokens_codified\u001b[38;5;241m.\u001b[39mword_ids()\n\u001b[0;32m     18\u001b[0m     tags_codified \u001b[38;5;241m=\u001b[39m []\n",
      "\u001b[1;31mKeyError\u001b[0m: 'FECHA'"
     ]
    }
   ],
   "source": [
    "from transformers import BertTokenizerFast\n",
    "import torch\n",
    "\n",
    "def tokenizar_codify(oraciones, dataset_entrenamiento, tokenizer, tags):\n",
    "    tokens_codified = tokenizer(\n",
    "        oraciones,\n",
    "        is_split_into_words=True,  # True if the input is already tokenized\n",
    "        return_tensors=\"pt\",\n",
    "        padding=True,\n",
    "        truncation=True,\n",
    "    )\n",
    "    \n",
    "    # Align the tags with the tokenized input\n",
    "    tags_codified_list = []\n",
    "    for oracion in dataset_entrenamiento:\n",
    "        tags_list = [tags[tag] for token, tag in oracion]\n",
    "        word_ids = tokens_codified.word_ids()\n",
    "        tags_codified = []\n",
    "        for word_id in word_ids:\n",
    "            if word_id is None:\n",
    "                tags_codified.append(-100)  # Special token\n",
    "            else:\n",
    "                tags_codified.append(tags_list[word_id])\n",
    "        tags_codified_list.append(tags_codified)\n",
    "    \n",
    "    tags_codified = torch.tensor(tags_codified_list)\n",
    "    return tokens_codified, tags_codified\n",
    "\n",
    "# Example dataset_entrenamiento\n",
    "dataset_entrenamiento = [\n",
    "    [(\"Bogotá,\", \"O\"), (\"D.\",\"O\"), (\"C.,\", \"O\"), (\"jueves,\", \"O\"), (\"9\", \"FECHA\"), (\"de\", \"FECHA\"), (\"febrero\", \"FECHA\"), (\"de\", \"FECHA\"), (\"2023\", \"FECHA\")],\n",
    "    [(\"DIRECTORES:\", \"O\"), (\"GREGORIO\", \"DIRECTOR\"), (\"ELJACH\", \"DIRECTOR\"), (\"PACHECO\", \"DIRECTOR\")],\n",
    "    [(\"EDICIÓN\", \"O\"), (\"DE\", \"O\"), (\"22\", \"NUM_PAGINAS\"), (\"PÁGINAS\", \"O\")]\n",
    "]\n",
    "\n",
    "# Extract sentences from the dataset\n",
    "oraciones_entrenamiento = [[token for token, tag in oracion] for oracion in dataset_entrenamiento]\n",
    "\n",
    "# Example tags dictionary\n",
    "etiquetas = {\n",
    "    \"O\": 0,\n",
    "    \"B-PER\": 1,\n",
    "    \"I-PER\": 2,\n",
    "    \"B-LOC\": 3,\n",
    "    \"I-LOC\": 4,\n",
    "    \"B-ORG\": 5,\n",
    "    \"I-ORG\": 6,\n",
    "    \"B-MISC\": 7,\n",
    "    \"I-MISC\": 8,\n",
    "    \"B-FECHA\": 9,  # Add 'FECHA' tag\n",
    "    \"I-FECHA\": 10  # Add 'FECHA' tag\n",
    "}\n",
    "\n",
    "# Initialize the tokenizer\n",
    "tokenizer = BertTokenizerFast.from_pretrained('bert-base-uncased')\n",
    "\n",
    "# Tokenize and codify the data\n",
    "tokens_codified, tags_codified = tokenizar_codify(oraciones_entrenamiento, dataset_entrenamiento, tokenizer, etiquetas)\n",
    "\n",
    "# Debug prints to check lengths\n",
    "print(f\"Length of input_ids: {len(tokens_codified['input_ids'][0])}\")\n",
    "print(f\"Length of attention_mask: {len(tokens_codified['attention_mask'][0])}\")\n",
    "print(f\"Length of tags_codified: {len(tags_codified[0])}\")"
   ]
  },
  {
   "cell_type": "markdown",
   "metadata": {},
   "source": [
    "## Train Data"
   ]
  },
  {
   "cell_type": "code",
   "execution_count": null,
   "metadata": {},
   "outputs": [
    {
     "name": "stderr",
     "output_type": "stream",
     "text": [
      "c:\\Users\\Jorge\\anaconda3\\envs\\Extract\\Lib\\site-packages\\transformers\\optimization.py:640: FutureWarning: This implementation of AdamW is deprecated and will be removed in a future version. Use the PyTorch implementation torch.optim.AdamW instead, or set `no_deprecation_warning=True` to disable this warning\n",
      "  warnings.warn(\n"
     ]
    },
    {
     "ename": "NameError",
     "evalue": "name 'dataloader' is not defined",
     "output_type": "error",
     "traceback": [
      "\u001b[1;31m---------------------------------------------------------------------------\u001b[0m",
      "\u001b[1;31mNameError\u001b[0m                                 Traceback (most recent call last)",
      "Cell \u001b[1;32mIn[41], line 12\u001b[0m\n\u001b[0;32m     10\u001b[0m \u001b[38;5;28;01mfor\u001b[39;00m epoch \u001b[38;5;129;01min\u001b[39;00m \u001b[38;5;28mrange\u001b[39m(num_epochs):\n\u001b[0;32m     11\u001b[0m     total_loss \u001b[38;5;241m=\u001b[39m \u001b[38;5;241m0\u001b[39m\n\u001b[1;32m---> 12\u001b[0m     progress_bar \u001b[38;5;241m=\u001b[39m tqdm(\u001b[43mdataloader\u001b[49m, desc\u001b[38;5;241m=\u001b[39m\u001b[38;5;124mf\u001b[39m\u001b[38;5;124m\"\u001b[39m\u001b[38;5;124mEpoch \u001b[39m\u001b[38;5;132;01m{\u001b[39;00mepoch\u001b[38;5;250m \u001b[39m\u001b[38;5;241m+\u001b[39m\u001b[38;5;250m \u001b[39m\u001b[38;5;241m1\u001b[39m\u001b[38;5;132;01m}\u001b[39;00m\u001b[38;5;124m/\u001b[39m\u001b[38;5;132;01m{\u001b[39;00mnum_epochs\u001b[38;5;132;01m}\u001b[39;00m\u001b[38;5;124m\"\u001b[39m, leave\u001b[38;5;241m=\u001b[39m\u001b[38;5;28;01mFalse\u001b[39;00m)  \u001b[38;5;66;03m# leave=False para barra de progreso limpia\u001b[39;00m\n\u001b[0;32m     13\u001b[0m     \u001b[38;5;28;01mfor\u001b[39;00m batch \u001b[38;5;129;01min\u001b[39;00m progress_bar:  \u001b[38;5;66;03m# Usa una barra de progreso\u001b[39;00m\n\u001b[0;32m     14\u001b[0m         input_ids \u001b[38;5;241m=\u001b[39m batch[\u001b[38;5;241m0\u001b[39m]\u001b[38;5;241m.\u001b[39mto(device)\n",
      "\u001b[1;31mNameError\u001b[0m: name 'dataloader' is not defined"
     ]
    }
   ],
   "source": [
    "device = torch.device(\"cuda\" if torch.cuda.is_available() else \"cpu\")\n",
    "model.to(device) #mover el modelo al dispositivo\n",
    "\n",
    "learning_rate = 5e-5  # Ajusta según tus necesidades\n",
    "optimizer = AdamW(model.parameters(), lr=learning_rate)\n",
    "\n",
    "\n",
    "num_epochs = 3  # Ajusta según tus necesidades\n",
    "\n",
    "for epoch in range(num_epochs):\n",
    "    total_loss = 0\n",
    "    progress_bar = tqdm(dataloader, desc=f\"Epoch {epoch + 1}/{num_epochs}\", leave=False)  # leave=False para barra de progreso limpia\n",
    "    for batch in progress_bar:  # Usa una barra de progreso\n",
    "        input_ids = batch[0].to(device)\n",
    "        attention_mask = batch[1].to(device)\n",
    "        labels = batch[2].to(device)\n",
    "\n",
    "        optimizer.zero_grad() #limpiar gradientes\n",
    "        outputs = model(input_ids, attention_mask=attention_mask, labels=labels)\n",
    "        loss = outputs.loss\n",
    "        total_loss += loss.item()\n",
    "        loss.backward() #calculo de gradientes\n",
    "        optimizer.step() #actualizacion de los pesos\n",
    "        progress_bar.set_postfix({\"Loss\": loss.item()}) #se imprime la perdida\n",
    "    avg_loss = total_loss / len(dataloader)\n",
    "    print(f\"Epoch {epoch+1}/{num_epochs} - Average Loss: {avg_loss:.4f}\")"
   ]
  },
  {
   "cell_type": "markdown",
   "metadata": {},
   "source": [
    "# Load  model"
   ]
  },
  {
   "cell_type": "code",
   "execution_count": null,
   "metadata": {},
   "outputs": [],
   "source": [
    "nombre_modelo = \"mi_modelo_bert_gacetas\"  # O el nombre que prefieras\n",
    "ruta_modelo = os.path.join(\"modelos\", nombre_modelo)\n",
    "os.makedirs(ruta_modelo, exist_ok=True) #crea las carpetas si no existen\n",
    "model.save_pretrained(ruta_modelo)  # Guarda el modelo\n",
    "tokenizer.save_pretrained(ruta_modelo)  # Guarda el tokenizer\n",
    "\n",
    "print(f\"Modelo guardado en: {ruta_modelo}\")"
   ]
  },
  {
   "cell_type": "markdown",
   "metadata": {},
   "source": [
    "## Evolucion"
   ]
  },
  {
   "cell_type": "code",
   "execution_count": null,
   "metadata": {},
   "outputs": [],
   "source": [
    "from transformers import pipeline\n",
    "\n",
    "# Cargar el modelo entrenado\n",
    "model = BertForTokenClassification.from_pretrained(ruta_modelo)\n",
    "tokenizer = BertTokenizer.from_pretrained(ruta_modelo)\n",
    "nlp = pipeline('ner', model=model, tokenizer=tokenizer, aggregation_strategy=\"simple\", device=0 if torch.cuda.is_available() else -1)\n",
    "\n",
    "# Ejemplo de dataset de prueba (¡DEBES REEMPLAZAR ESTO CON TUS DATOS!)\n",
    "dataset_prueba = [\n",
    "    [(\"Bogotá,\", \"O\"), (\"D.\", \"O\"), (\"C.,\", \"O\"), (\"miercoles,\", \"O\"), (\"15\", \"FECHA\"), (\"de\", \"FECHA\"), (\"marzo\", \"FECHA\"), (\"de\", \"FECHA\"), (\"2023\", \"FECHA\")],\n",
    "    [(\"DIRECTORES:\", \"O\"), (\"MARIA\", \"DIRECTOR\"), (\"JOSE\", \"DIRECTOR\"), (\"SUAREZ\", \"DIRECTOR\")],\n",
    "    [(\"EDICIÓN\", \"O\"), (\"DE\", \"O\"), (\"30\", \"NUM_PAGINAS\"), (\"PÁGINAS\", \"O\")]\n",
    "]\n",
    "\n",
    "oraciones_prueba = [oracion for oracion in dataset_prueba] #se obtienen las oraciones\n",
    "verdaderas_etiquetas = [[etiqueta for _, etiqueta in oracion] for oracion in dataset_prueba] #se obtienen las etiquetas\n",
    "\n",
    "predicciones = []\n",
    "for oracion in oraciones_prueba:\n",
    "    oracion_texto = \" \".join([token for token, _ in oracion]) # se unen los tokens\n",
    "    oracion_preprocesada = preprocesar_texto(oracion_texto) #se preprocesa la oracion\n",
    "    entidades = nlp(oracion_preprocesada)\n",
    "    etiquetas_predichas = obtener_etiquetas_predichas(entidades, oracion, etiquetas) # se obtienen las etiquetas predichas\n",
    "    predicciones.append(etiquetas_predichas) # se agregan a la lista de predicciones\n",
    "\n",
    "reporte = classification_report(verdaderas_etiquetas, predicciones) #se genera el reporte\n",
    "print(reporte)\n",
    "\n",
    "def obtener_etiquetas_predichas(entidades, oracion_original, etiquetas): #funcion para obtener las etiquetas predichas\n",
    "    etiquetas_predichas = [\"O\"] * len(oracion_original) #se inicializa la lista de etiquetas predichas con la etiqueta \"O\"\n",
    "\n",
    "    for entidad in entidades:\n",
    "        inicio = entidad[\"start\"]\n",
    "        fin = entidad[\"end\"]\n",
    "        etiqueta_predicha = entidad[\"entity_group\"]\n",
    "\n",
    "        for i in range(len(oracion_original)): #itera sobre los tokens de la oracion original\n",
    "            token_inicio = oracion_original[i][0]\n",
    "\n",
    "            if oracion_original[i][0] in entidad[\"word\"]:\n",
    "                 etiquetas_predichas[i] = etiqueta_predicha\n",
    "\n",
    "    return etiquetas_predichas"
   ]
  }
 ],
 "metadata": {
  "kernelspec": {
   "display_name": "Extract",
   "language": "python",
   "name": "python3"
  },
  "language_info": {
   "codemirror_mode": {
    "name": "ipython",
    "version": 3
   },
   "file_extension": ".py",
   "mimetype": "text/x-python",
   "name": "python",
   "nbconvert_exporter": "python",
   "pygments_lexer": "ipython3",
   "version": "3.12.9"
  }
 },
 "nbformat": 4,
 "nbformat_minor": 2
}
