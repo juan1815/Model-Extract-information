{
 "cells": [
  {
   "cell_type": "code",
   "execution_count": 28,
   "metadata": {},
   "outputs": [],
   "source": [
    "from transformers import BertTokenizer, BertForTokenClassification, AdamW\n",
    "import torch\n",
    "import os\n",
    "import re\n",
    "from tqdm import tqdm\n",
    "#from seqeval.metrics import classification_report\n",
    "from torch.utils.data import DataLoader, TensorDataset"
   ]
  },
  {
   "cell_type": "code",
   "execution_count": 29,
   "metadata": {},
   "outputs": [],
   "source": [
    "def preprocesar_texto(texto):\n",
    "    texto_limpio = re.sub(r\"\\s+\", \" \", texto).strip()  # Elimina espacios extra\n",
    "    texto_limpio = texto_limpio.replace('\\n', ' ') #elimina saltos de linea\n",
    "    return texto_limpio"
   ]
  },
  {
   "cell_type": "code",
   "execution_count": 30,
   "metadata": {},
   "outputs": [],
   "source": [
    "def tokenizar_y_codificar(oraciones, tokenizer, etiquetas):\n",
    "\n",
    "    tokens_codificados = tokenizer(oraciones, is_split_into_words=True, \n",
    "                                    return_tensors=\"pt\", padding=True, truncation=True)\n",
    "    etiquetas_codificadas = []\n",
    "    for i, oracion in enumerate(oraciones):\n",
    "        etiquetas_oracion = []\n",
    "        for j in range(len(oracion)):\n",
    "            _, etiqueta = oracion[j]\n",
    "            etiquetas_oracion.append(etiquetas[etiqueta])\n",
    "\n",
    "        # Añadir etiquetas para [CLS] y [SEP]\n",
    "        etiquetas_oracion.insert(0, etiquetas[\"O\"])  # [CLS]\n",
    "        etiquetas_oracion.append(etiquetas[\"O\"])  # [SEP]\n",
    "\n",
    "\n",
    "        etiquetas_codificadas.append(torch.tensor(etiquetas_oracion))\n",
    "\n",
    "    return tokens_codificados, etiquetas_codificadas"
   ]
  },
  {
   "cell_type": "code",
   "execution_count": 31,
   "metadata": {},
   "outputs": [
    {
     "name": "stderr",
     "output_type": "stream",
     "text": [
      "Some weights of BertForTokenClassification were not initialized from the model checkpoint at dccuchile/bert-base-spanish-wwm-cased and are newly initialized: ['classifier.bias', 'classifier.weight']\n",
      "You should probably TRAIN this model on a down-stream task to be able to use it for predictions and inference.\n"
     ]
    },
    {
     "ename": "ValueError",
     "evalue": "text input must be of type `str` (single example), `List[str]` (batch or single pretokenized example) or `List[List[str]]` (batch of pretokenized examples).",
     "output_type": "error",
     "traceback": [
      "\u001b[1;31m---------------------------------------------------------------------------\u001b[0m",
      "\u001b[1;31mValueError\u001b[0m                                Traceback (most recent call last)",
      "Cell \u001b[1;32mIn[31], line 18\u001b[0m\n\u001b[0;32m     16\u001b[0m \u001b[38;5;66;03m# Tokenizar y codificar\u001b[39;00m\n\u001b[0;32m     17\u001b[0m oraciones_entrenamiento \u001b[38;5;241m=\u001b[39m [oracion \u001b[38;5;28;01mfor\u001b[39;00m oracion \u001b[38;5;129;01min\u001b[39;00m dataset_entrenamiento]\n\u001b[1;32m---> 18\u001b[0m tokens_codificados, etiquetas_codificadas \u001b[38;5;241m=\u001b[39m \u001b[43mtokenizar_y_codificar\u001b[49m\u001b[43m(\u001b[49m\u001b[43moraciones_entrenamiento\u001b[49m\u001b[43m,\u001b[49m\u001b[43m \u001b[49m\u001b[43mtokenizer\u001b[49m\u001b[43m,\u001b[49m\u001b[43m \u001b[49m\u001b[43metiquetas\u001b[49m\u001b[43m)\u001b[49m\n\u001b[0;32m     20\u001b[0m \u001b[38;5;66;03m# Convertir las etiquetas a tensor y aplicar padding\u001b[39;00m\n\u001b[0;32m     21\u001b[0m etiquetas_codificadas_tensor \u001b[38;5;241m=\u001b[39m torch\u001b[38;5;241m.\u001b[39mnn\u001b[38;5;241m.\u001b[39mutils\u001b[38;5;241m.\u001b[39mrnn\u001b[38;5;241m.\u001b[39mpad_sequence(etiquetas_codificadas, batch_first\u001b[38;5;241m=\u001b[39m\u001b[38;5;28;01mTrue\u001b[39;00m, padding_value\u001b[38;5;241m=\u001b[39m\u001b[38;5;241m-\u001b[39m\u001b[38;5;241m100\u001b[39m)\n",
      "Cell \u001b[1;32mIn[30], line 3\u001b[0m, in \u001b[0;36mtokenizar_y_codificar\u001b[1;34m(oraciones, tokenizer, etiquetas)\u001b[0m\n\u001b[0;32m      1\u001b[0m \u001b[38;5;28;01mdef\u001b[39;00m\u001b[38;5;250m \u001b[39m\u001b[38;5;21mtokenizar_y_codificar\u001b[39m(oraciones, tokenizer, etiquetas):\n\u001b[1;32m----> 3\u001b[0m     tokens_codificados \u001b[38;5;241m=\u001b[39m \u001b[43mtokenizer\u001b[49m\u001b[43m(\u001b[49m\u001b[43moraciones\u001b[49m\u001b[43m,\u001b[49m\u001b[43m \u001b[49m\u001b[43mis_split_into_words\u001b[49m\u001b[38;5;241;43m=\u001b[39;49m\u001b[38;5;28;43;01mTrue\u001b[39;49;00m\u001b[43m,\u001b[49m\u001b[43m \u001b[49m\n\u001b[0;32m      4\u001b[0m \u001b[43m                                    \u001b[49m\u001b[43mreturn_tensors\u001b[49m\u001b[38;5;241;43m=\u001b[39;49m\u001b[38;5;124;43m\"\u001b[39;49m\u001b[38;5;124;43mpt\u001b[39;49m\u001b[38;5;124;43m\"\u001b[39;49m\u001b[43m,\u001b[49m\u001b[43m \u001b[49m\u001b[43mpadding\u001b[49m\u001b[38;5;241;43m=\u001b[39;49m\u001b[38;5;28;43;01mTrue\u001b[39;49;00m\u001b[43m,\u001b[49m\u001b[43m \u001b[49m\u001b[43mtruncation\u001b[49m\u001b[38;5;241;43m=\u001b[39;49m\u001b[38;5;28;43;01mTrue\u001b[39;49;00m\u001b[43m)\u001b[49m\n\u001b[0;32m      5\u001b[0m     etiquetas_codificadas \u001b[38;5;241m=\u001b[39m []\n\u001b[0;32m      6\u001b[0m     \u001b[38;5;28;01mfor\u001b[39;00m i, oracion \u001b[38;5;129;01min\u001b[39;00m \u001b[38;5;28menumerate\u001b[39m(oraciones):\n",
      "File \u001b[1;32mc:\\Users\\Jorge\\anaconda3\\envs\\Extract\\Lib\\site-packages\\transformers\\tokenization_utils_base.py:2877\u001b[0m, in \u001b[0;36mPreTrainedTokenizerBase.__call__\u001b[1;34m(self, text, text_pair, text_target, text_pair_target, add_special_tokens, padding, truncation, max_length, stride, is_split_into_words, pad_to_multiple_of, padding_side, return_tensors, return_token_type_ids, return_attention_mask, return_overflowing_tokens, return_special_tokens_mask, return_offsets_mapping, return_length, verbose, **kwargs)\u001b[0m\n\u001b[0;32m   2875\u001b[0m     \u001b[38;5;28;01mif\u001b[39;00m \u001b[38;5;129;01mnot\u001b[39;00m \u001b[38;5;28mself\u001b[39m\u001b[38;5;241m.\u001b[39m_in_target_context_manager:\n\u001b[0;32m   2876\u001b[0m         \u001b[38;5;28mself\u001b[39m\u001b[38;5;241m.\u001b[39m_switch_to_input_mode()\n\u001b[1;32m-> 2877\u001b[0m     encodings \u001b[38;5;241m=\u001b[39m \u001b[38;5;28;43mself\u001b[39;49m\u001b[38;5;241;43m.\u001b[39;49m\u001b[43m_call_one\u001b[49m\u001b[43m(\u001b[49m\u001b[43mtext\u001b[49m\u001b[38;5;241;43m=\u001b[39;49m\u001b[43mtext\u001b[49m\u001b[43m,\u001b[49m\u001b[43m \u001b[49m\u001b[43mtext_pair\u001b[49m\u001b[38;5;241;43m=\u001b[39;49m\u001b[43mtext_pair\u001b[49m\u001b[43m,\u001b[49m\u001b[43m \u001b[49m\u001b[38;5;241;43m*\u001b[39;49m\u001b[38;5;241;43m*\u001b[39;49m\u001b[43mall_kwargs\u001b[49m\u001b[43m)\u001b[49m\n\u001b[0;32m   2878\u001b[0m \u001b[38;5;28;01mif\u001b[39;00m text_target \u001b[38;5;129;01mis\u001b[39;00m \u001b[38;5;129;01mnot\u001b[39;00m \u001b[38;5;28;01mNone\u001b[39;00m:\n\u001b[0;32m   2879\u001b[0m     \u001b[38;5;28mself\u001b[39m\u001b[38;5;241m.\u001b[39m_switch_to_target_mode()\n",
      "File \u001b[1;32mc:\\Users\\Jorge\\anaconda3\\envs\\Extract\\Lib\\site-packages\\transformers\\tokenization_utils_base.py:2937\u001b[0m, in \u001b[0;36mPreTrainedTokenizerBase._call_one\u001b[1;34m(self, text, text_pair, add_special_tokens, padding, truncation, max_length, stride, is_split_into_words, pad_to_multiple_of, padding_side, return_tensors, return_token_type_ids, return_attention_mask, return_overflowing_tokens, return_special_tokens_mask, return_offsets_mapping, return_length, verbose, split_special_tokens, **kwargs)\u001b[0m\n\u001b[0;32m   2934\u001b[0m         \u001b[38;5;28;01mreturn\u001b[39;00m \u001b[38;5;28;01mFalse\u001b[39;00m\n\u001b[0;32m   2936\u001b[0m \u001b[38;5;28;01mif\u001b[39;00m \u001b[38;5;129;01mnot\u001b[39;00m _is_valid_text_input(text):\n\u001b[1;32m-> 2937\u001b[0m     \u001b[38;5;28;01mraise\u001b[39;00m \u001b[38;5;167;01mValueError\u001b[39;00m(\n\u001b[0;32m   2938\u001b[0m         \u001b[38;5;124m\"\u001b[39m\u001b[38;5;124mtext input must be of type `str` (single example), `List[str]` (batch or single pretokenized example) \u001b[39m\u001b[38;5;124m\"\u001b[39m\n\u001b[0;32m   2939\u001b[0m         \u001b[38;5;124m\"\u001b[39m\u001b[38;5;124mor `List[List[str]]` (batch of pretokenized examples).\u001b[39m\u001b[38;5;124m\"\u001b[39m\n\u001b[0;32m   2940\u001b[0m     )\n\u001b[0;32m   2942\u001b[0m \u001b[38;5;28;01mif\u001b[39;00m text_pair \u001b[38;5;129;01mis\u001b[39;00m \u001b[38;5;129;01mnot\u001b[39;00m \u001b[38;5;28;01mNone\u001b[39;00m \u001b[38;5;129;01mand\u001b[39;00m \u001b[38;5;129;01mnot\u001b[39;00m _is_valid_text_input(text_pair):\n\u001b[0;32m   2943\u001b[0m     \u001b[38;5;28;01mraise\u001b[39;00m \u001b[38;5;167;01mValueError\u001b[39;00m(\n\u001b[0;32m   2944\u001b[0m         \u001b[38;5;124m\"\u001b[39m\u001b[38;5;124mtext input must be of type `str` (single example), `List[str]` (batch or single pretokenized example) \u001b[39m\u001b[38;5;124m\"\u001b[39m\n\u001b[0;32m   2945\u001b[0m         \u001b[38;5;124m\"\u001b[39m\u001b[38;5;124mor `List[List[str]]` (batch of pretokenized examples).\u001b[39m\u001b[38;5;124m\"\u001b[39m\n\u001b[0;32m   2946\u001b[0m     )\n",
      "\u001b[1;31mValueError\u001b[0m: text input must be of type `str` (single example), `List[str]` (batch or single pretokenized example) or `List[List[str]]` (batch of pretokenized examples)."
     ]
    }
   ],
   "source": [
    "\n",
    "# Etiquetas\n",
    "etiquetas = {\"O\": 0, \"FECHA\": 1, \"DIRECTOR\": 2, \"NUM_PAGINAS\": 3}\n",
    "num_etiquetas = len(etiquetas)\n",
    "\n",
    "# Modelo\n",
    "model = BertForTokenClassification.from_pretrained(\"dccuchile/bert-base-spanish-wwm-cased\", num_labels=num_etiquetas)\n",
    "tokenizer = BertTokenizer.from_pretrained(\"dccuchile/bert-base-spanish-wwm-cased\")\n",
    "\n",
    "# Dataset de entrenamiento (ejemplo) - ¡DEBES REEMPLAZAR ESTO CON TUS DATOS!\n",
    "dataset_entrenamiento = [\n",
    "    [(\"Bogotá,\", \"O\"), (\"D.\",\"O\"), (\"C.,\", \"O\"), (\"jueves,\", \"O\"), (\"9\", \"FECHA\"), (\"de\", \"FECHA\"), (\"febrero\", \"FECHA\"), (\"de\", \"FECHA\"), (\"2023\", \"FECHA\")],\n",
    "    [(\"DIRECTORES:\", \"O\"), (\"GREGORIO\", \"DIRECTOR\"), (\"ELJACH\", \"DIRECTOR\"), (\"PACHECO\", \"DIRECTOR\")],\n",
    "    [(\"EDICIÓN\", \"O\"), (\"DE\", \"O\"), (\"22\", \"NUM_PAGINAS\"), (\"PÁGINAS\", \"O\")]\n",
    "]\n",
    "\n",
    "# Tokenizar y codificar\n",
    "oraciones_entrenamiento = [oracion for oracion in dataset_entrenamiento]\n",
    "tokens_codificados, etiquetas_codificadas = tokenizar_y_codificar(oraciones_entrenamiento, tokenizer, etiquetas)\n",
    "\n",
    "# Convertir las etiquetas a tensor y aplicar padding\n",
    "etiquetas_codificadas_tensor = torch.nn.utils.rnn.pad_sequence(etiquetas_codificadas, batch_first=True, padding_value=-100)\n",
    "\n",
    "# Dataset y DataLoader\n",
    "\n",
    "dataset = TensorDataset(tokens_codificados.input_ids, tokens_codificados.attention_mask, etiquetas_codificadas_tensor)\n",
    "batch_size = 8  # Ajusta según tus recursos\n",
    "dataloader = DataLoader(dataset, batch_size=batch_size, shuffle=True)"
   ]
  },
  {
   "cell_type": "markdown",
   "metadata": {},
   "source": [
    "## Train Data"
   ]
  },
  {
   "cell_type": "code",
   "execution_count": null,
   "metadata": {},
   "outputs": [],
   "source": [
    "device = torch.device(\"cuda\" if torch.cuda.is_available() else \"cpu\")\n",
    "model.to(device) #mover el modelo al dispositivo\n",
    "\n",
    "learning_rate = 5e-5  # Ajusta según tus necesidades\n",
    "optimizer = AdamW(model.parameters(), lr=learning_rate)\n",
    "\n",
    "\n",
    "num_epochs = 3  # Ajusta según tus necesidades\n",
    "\n",
    "for epoch in range(num_epochs):\n",
    "    total_loss = 0\n",
    "    progress_bar = tqdm(dataloader, desc=f\"Epoch {epoch + 1}/{num_epochs}\", leave=False)  # leave=False para barra de progreso limpia\n",
    "    for batch in progress_bar:  # Usa una barra de progreso\n",
    "        input_ids = batch[0].to(device)\n",
    "        attention_mask = batch[1].to(device)\n",
    "        labels = batch[2].to(device)\n",
    "\n",
    "        optimizer.zero_grad() #limpiar gradientes\n",
    "        outputs = model(input_ids, attention_mask=attention_mask, labels=labels)\n",
    "        loss = outputs.loss\n",
    "        total_loss += loss.item()\n",
    "        loss.backward() #calculo de gradientes\n",
    "        optimizer.step() #actualizacion de los pesos\n",
    "        progress_bar.set_postfix({\"Loss\": loss.item()}) #se imprime la perdida\n",
    "    avg_loss = total_loss / len(dataloader)\n",
    "    print(f\"Epoch {epoch+1}/{num_epochs} - Average Loss: {avg_loss:.4f}\")"
   ]
  },
  {
   "cell_type": "markdown",
   "metadata": {},
   "source": [
    "# Load  model"
   ]
  },
  {
   "cell_type": "code",
   "execution_count": null,
   "metadata": {},
   "outputs": [],
   "source": [
    "nombre_modelo = \"mi_modelo_bert_gacetas\"  # O el nombre que prefieras\n",
    "ruta_modelo = os.path.join(\"modelos\", nombre_modelo)\n",
    "os.makedirs(ruta_modelo, exist_ok=True) #crea las carpetas si no existen\n",
    "model.save_pretrained(ruta_modelo)  # Guarda el modelo\n",
    "tokenizer.save_pretrained(ruta_modelo)  # Guarda el tokenizer\n",
    "\n",
    "print(f\"Modelo guardado en: {ruta_modelo}\")"
   ]
  },
  {
   "cell_type": "markdown",
   "metadata": {},
   "source": [
    "## Evolucion"
   ]
  },
  {
   "cell_type": "code",
   "execution_count": null,
   "metadata": {},
   "outputs": [],
   "source": [
    "from transformers import pipeline\n",
    "\n",
    "# Cargar el modelo entrenado\n",
    "model = BertForTokenClassification.from_pretrained(ruta_modelo)\n",
    "tokenizer = BertTokenizer.from_pretrained(ruta_modelo)\n",
    "nlp = pipeline('ner', model=model, tokenizer=tokenizer, aggregation_strategy=\"simple\", device=0 if torch.cuda.is_available() else -1)\n",
    "\n",
    "# Ejemplo de dataset de prueba (¡DEBES REEMPLAZAR ESTO CON TUS DATOS!)\n",
    "dataset_prueba = [\n",
    "    [(\"Bogotá,\", \"O\"), (\"D.\", \"O\"), (\"C.,\", \"O\"), (\"miercoles,\", \"O\"), (\"15\", \"FECHA\"), (\"de\", \"FECHA\"), (\"marzo\", \"FECHA\"), (\"de\", \"FECHA\"), (\"2023\", \"FECHA\")],\n",
    "    [(\"DIRECTORES:\", \"O\"), (\"MARIA\", \"DIRECTOR\"), (\"JOSE\", \"DIRECTOR\"), (\"SUAREZ\", \"DIRECTOR\")],\n",
    "    [(\"EDICIÓN\", \"O\"), (\"DE\", \"O\"), (\"30\", \"NUM_PAGINAS\"), (\"PÁGINAS\", \"O\")]\n",
    "]\n",
    "\n",
    "oraciones_prueba = [oracion for oracion in dataset_prueba] #se obtienen las oraciones\n",
    "verdaderas_etiquetas = [[etiqueta for _, etiqueta in oracion] for oracion in dataset_prueba] #se obtienen las etiquetas\n",
    "\n",
    "predicciones = []\n",
    "for oracion in oraciones_prueba:\n",
    "    oracion_texto = \" \".join([token for token, _ in oracion]) # se unen los tokens\n",
    "    oracion_preprocesada = preprocesar_texto(oracion_texto) #se preprocesa la oracion\n",
    "    entidades = nlp(oracion_preprocesada)\n",
    "    etiquetas_predichas = obtener_etiquetas_predichas(entidades, oracion, etiquetas) # se obtienen las etiquetas predichas\n",
    "    predicciones.append(etiquetas_predichas) # se agregan a la lista de predicciones\n",
    "\n",
    "reporte = classification_report(verdaderas_etiquetas, predicciones) #se genera el reporte\n",
    "print(reporte)\n",
    "\n",
    "def obtener_etiquetas_predichas(entidades, oracion_original, etiquetas): #funcion para obtener las etiquetas predichas\n",
    "    etiquetas_predichas = [\"O\"] * len(oracion_original) #se inicializa la lista de etiquetas predichas con la etiqueta \"O\"\n",
    "\n",
    "    for entidad in entidades:\n",
    "        inicio = entidad[\"start\"]\n",
    "        fin = entidad[\"end\"]\n",
    "        etiqueta_predicha = entidad[\"entity_group\"]\n",
    "\n",
    "        for i in range(len(oracion_original)): #itera sobre los tokens de la oracion original\n",
    "            token_inicio = oracion_original[i][0]\n",
    "\n",
    "            if oracion_original[i][0] in entidad[\"word\"]:\n",
    "                 etiquetas_predichas[i] = etiqueta_predicha\n",
    "\n",
    "    return etiquetas_predichas"
   ]
  }
 ],
 "metadata": {
  "kernelspec": {
   "display_name": "Extract",
   "language": "python",
   "name": "python3"
  },
  "language_info": {
   "codemirror_mode": {
    "name": "ipython",
    "version": 3
   },
   "file_extension": ".py",
   "mimetype": "text/x-python",
   "name": "python",
   "nbconvert_exporter": "python",
   "pygments_lexer": "ipython3",
   "version": "3.12.9"
  }
 },
 "nbformat": 4,
 "nbformat_minor": 2
}
