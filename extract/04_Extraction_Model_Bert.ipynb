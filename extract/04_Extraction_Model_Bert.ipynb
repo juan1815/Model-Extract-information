{
 "cells": [
  {
   "cell_type": "code",
   "execution_count": 1,
   "metadata": {},
   "outputs": [
    {
     "name": "stderr",
     "output_type": "stream",
     "text": [
      "c:\\Users\\Jorge\\anaconda3\\envs\\Extract\\Lib\\site-packages\\tqdm\\auto.py:21: TqdmWarning: IProgress not found. Please update jupyter and ipywidgets. See https://ipywidgets.readthedocs.io/en/stable/user_install.html\n",
      "  from .autonotebook import tqdm as notebook_tqdm\n"
     ]
    }
   ],
   "source": [
    "from  transformers import BertTokenizer, BertForTokenClassification\n",
    "import torch"
   ]
  },
  {
   "cell_type": "code",
   "execution_count": 2,
   "metadata": {},
   "outputs": [
    {
     "name": "stderr",
     "output_type": "stream",
     "text": [
      "Some weights of BertForTokenClassification were not initialized from the model checkpoint at dccuchile/bert-base-spanish-wwm-cased and are newly initialized: ['classifier.bias', 'classifier.weight']\n",
      "You should probably TRAIN this model on a down-stream task to be able to use it for predictions and inference.\n"
     ]
    },
    {
     "data": {
      "text/plain": [
       "BertForTokenClassification(\n",
       "  (bert): BertModel(\n",
       "    (embeddings): BertEmbeddings(\n",
       "      (word_embeddings): Embedding(31002, 768, padding_idx=1)\n",
       "      (position_embeddings): Embedding(512, 768)\n",
       "      (token_type_embeddings): Embedding(2, 768)\n",
       "      (LayerNorm): LayerNorm((768,), eps=1e-12, elementwise_affine=True)\n",
       "      (dropout): Dropout(p=0.1, inplace=False)\n",
       "    )\n",
       "    (encoder): BertEncoder(\n",
       "      (layer): ModuleList(\n",
       "        (0-11): 12 x BertLayer(\n",
       "          (attention): BertAttention(\n",
       "            (self): BertSdpaSelfAttention(\n",
       "              (query): Linear(in_features=768, out_features=768, bias=True)\n",
       "              (key): Linear(in_features=768, out_features=768, bias=True)\n",
       "              (value): Linear(in_features=768, out_features=768, bias=True)\n",
       "              (dropout): Dropout(p=0.1, inplace=False)\n",
       "            )\n",
       "            (output): BertSelfOutput(\n",
       "              (dense): Linear(in_features=768, out_features=768, bias=True)\n",
       "              (LayerNorm): LayerNorm((768,), eps=1e-12, elementwise_affine=True)\n",
       "              (dropout): Dropout(p=0.1, inplace=False)\n",
       "            )\n",
       "          )\n",
       "          (intermediate): BertIntermediate(\n",
       "            (dense): Linear(in_features=768, out_features=3072, bias=True)\n",
       "            (intermediate_act_fn): GELUActivation()\n",
       "          )\n",
       "          (output): BertOutput(\n",
       "            (dense): Linear(in_features=3072, out_features=768, bias=True)\n",
       "            (LayerNorm): LayerNorm((768,), eps=1e-12, elementwise_affine=True)\n",
       "            (dropout): Dropout(p=0.1, inplace=False)\n",
       "          )\n",
       "        )\n",
       "      )\n",
       "    )\n",
       "  )\n",
       "  (dropout): Dropout(p=0.1, inplace=False)\n",
       "  (classifier): Linear(in_features=768, out_features=10, bias=True)\n",
       ")"
      ]
     },
     "execution_count": 2,
     "metadata": {},
     "output_type": "execute_result"
    }
   ],
   "source": [
    "etiquetas = {\n",
    "    'O' : 0,\n",
    "    \"FECHA\" : 1,\n",
    "    \"DIRECTOR\" : 2,\n",
    "    \"ROL_ENTITY\": 3,\n",
    "    \"EDICION\" : 4,\n",
    "    \"TIPO_DOCUMENTO\" : 5,\n",
    "    \"ROMAN_NUM\" : 6,\n",
    "    \"NUM_ISSN\" : 7,\n",
    "    \"ENTITY\": 8,\n",
    "    \"PRESENTATION\": 9\n",
    "}\n",
    "\n",
    "# load model and tokenizer\n",
    "\n",
    "tokenizer = BertTokenizer.from_pretrained('dccuchile/bert-base-spanish-wwm-cased', num_labels=len(etiquetas))\n",
    "model = BertForTokenClassification.from_pretrained('dccuchile/bert-base-spanish-wwm-cased', num_labels=len(etiquetas))\n",
    "\n",
    "# Move the model to the GPU \n",
    "device = torch.device(\"cuda\" if torch.cuda.is_available() else \"cpu\")\n",
    "model.to(device)\n"
   ]
  },
  {
   "cell_type": "markdown",
   "metadata": {},
   "source": [
    "## TOKENIZAR AND CODIFY THE DATA"
   ]
  },
  {
   "cell_type": "code",
   "execution_count": 3,
   "metadata": {},
   "outputs": [],
   "source": [
    "def tokenizar_codify(phrase, tokenizer, tags):\n",
    "    tokens_codified = tokenizer(\n",
    "        [token for token, tag in phrase],\n",
    "        is_split_into_words=True,  # True if the input is already tokenized\n",
    "        return_tensors=\"pt\",\n",
    "        padding=True,\n",
    "        truncation=True,\n",
    "    )\n",
    "    tags_codified = torch.tensor([tags[tag] for token, tag in phrase])\n",
    "    return tokens_codified, tags_codified"
   ]
  },
  {
   "cell_type": "code",
   "execution_count": 4,
   "metadata": {},
   "outputs": [],
   "source": [
    "data_train = [\n",
    "    [(\"Bogotá\", \"O\"), (\"D.C.\", \"O\"), (\",\", \"O\"), (\"jueves\", \"O\"), (\",\", \"O\"), (\"13\", \"FECHA\"), (\"de\", \"O\"), (\"diciembre\", \"FECHA\"), (\"de\", \"O\"), (\"2019\", \"FECHA\")],\n",
    "    [(\"GREGORIO\", \"DIRECTOR\"), (\"ELJACH\", \"DIRECTOR\"), (\"PACHECO\", \"DIRECTOR\"), (\"Y\", \"O\"), (\"MARIA\", \"DIRECTOR\"), (\"GOMEZ\", \"DIRECTOR\"), (\".\", \"O\")],\n",
    "    [(\"DIRECORES\", \"DIRECTOR\"), (\"SECRETARIO\", \"ROL_ENTITY\"), (\"GENERAL\", \"ROL_ENTITY\"), (\"DE\", \"O\"), (\"LA\", \"O\"), (\"CÁMARA\", \"ROL_ENTITY\")],\n",
    "    [(\"GREGORIO\", \"DIRECTOR\"), (\"ELJACH\", \"DIRECTOR\"), (\"PACHECO\", \"DIRECTOR\"), (\"Y\", \"O\"), (\"MARIA\", \"DIRECTOR\"), (\"GOMEZ\", \"DIRECTOR\"), (\".\", \"O\")],\n",
    "    [(\"DIRECORES\", \"DIRECTOR\"), (\"SECRETARIO\", \"ROL_ENTITY\"), (\"GENERAL\", \"ROL_ENTITY\"), (\"DEL\", \"O\"), (\"SENADO\", \"ROL_ENTITY\")]\n",
    "]"
   ]
  },
  {
   "cell_type": "code",
   "execution_count": 5,
   "metadata": {},
   "outputs": [
    {
     "name": "stdout",
     "output_type": "stream",
     "text": [
      "{'input_ids': tensor([[    4, 17521,  1090,  1009,  1059,  1009,  1017, 11573,  1017,  2083,\n",
      "          1008,  2451,  1008, 17736,     5]]), 'token_type_ids': tensor([[0, 0, 0, 0, 0, 0, 0, 0, 0, 0, 0, 0, 0, 0, 0]]), 'attention_mask': tensor([[1, 1, 1, 1, 1, 1, 1, 1, 1, 1, 1, 1, 1, 1, 1]])}\n",
      "tensor([0, 0, 0, 0, 0, 1, 0, 1, 0, 1])\n"
     ]
    }
   ],
   "source": [
    "tokens_codified, tags_codified = tokenizar_codify(data_train[0], tokenizer, etiquetas)\n",
    "print(tokens_codified)\n",
    "print(tags_codified)"
   ]
  },
  {
   "cell_type": "markdown",
   "metadata": {},
   "source": [
    "Este resultado muestra la arquitectura del modelo BERT que se ha cargado, incluyendo las capas de embeddings, atención, y clasificación. La advertencia inicial indica que algunas de las capas del clasificador (classifier.bias y classifier.weight) no se han inicializado desde el punto de control del modelo y se han inicializado de nuevo. Esto es normal cuando se carga un modelo preentrenado y se ajusta para una tarea específica.\n",
    "\n"
   ]
  }
 ],
 "metadata": {
  "kernelspec": {
   "display_name": "Extract",
   "language": "python",
   "name": "python3"
  },
  "language_info": {
   "codemirror_mode": {
    "name": "ipython",
    "version": 3
   },
   "file_extension": ".py",
   "mimetype": "text/x-python",
   "name": "python",
   "nbconvert_exporter": "python",
   "pygments_lexer": "ipython3",
   "version": "3.12.9"
  }
 },
 "nbformat": 4,
 "nbformat_minor": 2
}
